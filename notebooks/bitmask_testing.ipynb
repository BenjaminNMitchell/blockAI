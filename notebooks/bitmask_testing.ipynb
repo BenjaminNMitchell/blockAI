{
 "cells": [
  {
   "cell_type": "code",
   "execution_count": null,
   "metadata": {
    "collapsed": true
   },
   "outputs": [],
   "source": [
    "from block_ai.lib.myblokus.orientation import Orientation\n",
    "from block_ai.lib.myblokus.point import Point\n",
    "from bitarray import bitarray"
   ]
  },
  {
   "cell_type": "code",
   "execution_count": null,
   "metadata": {
    "collapsed": true
   },
   "outputs": [],
   "source": [
    "from block_ai.lib.myblokus.game_engine import GameEngine"
   ]
  },
  {
   "cell_type": "code",
   "execution_count": null,
   "metadata": {
    "collapsed": true
   },
   "outputs": [],
   "source": [
    "ge = GameEngine()"
   ]
  },
  {
   "cell_type": "code",
   "execution_count": null,
   "metadata": {},
   "outputs": [],
   "source": [
    "ge.play_game()\n",
    "ge.game.display()\n",
    "ge.players\n"
   ]
  },
  {
   "cell_type": "code",
   "execution_count": null,
   "metadata": {},
   "outputs": [],
   "source": [
    "for i in range(1000):\n",
    "    ge = GameEngine()`\n",
    "    ge.play_game()"
   ]
  },
  {
   "cell_type": "code",
   "execution_count": null,
   "metadata": {
    "collapsed": true
   },
   "outputs": [],
   "source": []
  },
  {
   "cell_type": "code",
   "execution_count": null,
   "metadata": {
    "collapsed": true
   },
   "outputs": [],
   "source": [
    "%load_ext line_profiler"
   ]
  },
  {
   "cell_type": "code",
   "execution_count": null,
   "metadata": {
    "collapsed": true
   },
   "outputs": [],
   "source": [
    "a = bitarray(400)"
   ]
  },
  {
   "cell_type": "code",
   "execution_count": null,
   "metadata": {
    "collapsed": true
   },
   "outputs": [],
   "source": [
    "a.setall(0)"
   ]
  },
  {
   "cell_type": "code",
   "execution_count": null,
   "metadata": {
    "collapsed": true
   },
   "outputs": [],
   "source": [
    "a[1] = 1"
   ]
  },
  {
   "cell_type": "code",
   "execution_count": null,
   "metadata": {},
   "outputs": [],
   "source": [
    "a << 1"
   ]
  },
  {
   "cell_type": "code",
   "execution_count": null,
   "metadata": {
    "collapsed": true
   },
   "outputs": [],
   "source": [
    "points = (Point(0, 0), Point(1, 0), Point(0, 1))\n",
    "\n",
    "def test():\n",
    "    Orientation(points)\n",
    "    "
   ]
  },
  {
   "cell_type": "code",
   "execution_count": null,
   "metadata": {
    "collapsed": true
   },
   "outputs": [],
   "source": [
    "a = Orientation(points)"
   ]
  },
  {
   "cell_type": "code",
   "execution_count": null,
   "metadata": {
    "collapsed": true
   },
   "outputs": [],
   "source": [
    "b = Orientation2(points)"
   ]
  },
  {
   "cell_type": "code",
   "execution_count": null,
   "metadata": {},
   "outputs": [],
   "source": [
    "%timeit Point(2, 2) in a.points"
   ]
  },
  {
   "cell_type": "code",
   "execution_count": null,
   "metadata": {
    "collapsed": true
   },
   "outputs": [],
   "source": [
    "board = bitarray(400)"
   ]
  },
  {
   "cell_type": "code",
   "execution_count": null,
   "metadata": {
    "collapsed": true
   },
   "outputs": [],
   "source": []
  },
  {
   "cell_type": "code",
   "execution_count": null,
   "metadata": {},
   "outputs": [],
   "source": [
    "%timeit (board & b.mask).any()"
   ]
  },
  {
   "cell_type": "code",
   "execution_count": null,
   "metadata": {
    "collapsed": true
   },
   "outputs": [],
   "source": [
    "mask = bitarray(400)\n",
    "mask.setall(0)"
   ]
  },
  {
   "cell_type": "code",
   "execution_count": null,
   "metadata": {},
   "outputs": [],
   "source": [
    "for p in points:\n",
    "    print(p, get_pos(p))\n",
    "    "
   ]
  },
  {
   "cell_type": "code",
   "execution_count": null,
   "metadata": {
    "collapsed": true
   },
   "outputs": [],
   "source": [
    "class Orientation2:\n",
    "    \n",
    "    def __init__(self, points):\n",
    "        self.mask = bitarray(400)\n",
    "        self.mask.setall(0)\n",
    "        ids = [self.get_pos(p) for p in points]\n",
    "        \n",
    "        for i in ids:\n",
    "            self.mask[i] = 1\n",
    "            a\n",
    "            \n",
    "    def get_pos(self, point):\n",
    "        return point.x + 20 * point.y\n"
   ]
  },
  {
   "cell_type": "markdown",
   "metadata": {},
   "source": [
    "Check for overlap is very fast all points in 1/4 the time of 1 for point method"
   ]
  },
  {
   "cell_type": "code",
   "execution_count": null,
   "metadata": {
    "collapsed": true
   },
   "outputs": [],
   "source": [
    "arr1 = bitarray(20)"
   ]
  },
  {
   "cell_type": "code",
   "execution_count": null,
   "metadata": {},
   "outputs": [],
   "source": [
    "a = bitarray(400)"
   ]
  },
  {
   "cell_type": "code",
   "execution_count": null,
   "metadata": {},
   "outputs": [],
   "source": [
    "a.any()"
   ]
  },
  {
   "cell_type": "code",
   "execution_count": null,
   "metadata": {},
   "outputs": [],
   "source": [
    "%timeit bitarray(400).setall(0)"
   ]
  },
  {
   "cell_type": "code",
   "execution_count": null,
   "metadata": {
    "collapsed": true
   },
   "outputs": [],
   "source": []
  },
  {
   "cell_type": "code",
   "execution_count": null,
   "metadata": {
    "collapsed": true
   },
   "outputs": [],
   "source": [
    "def shift_left(arr, val):\n",
    "    mask = bitarray(400).setall(0)\n",
    "    mask[:-val] = arr[val:]\n",
    "    return mask"
   ]
  },
  {
   "cell_type": "code",
   "execution_count": null,
   "metadata": {
    "collapsed": true
   },
   "outputs": [],
   "source": [
    "a = bitarray(20)"
   ]
  },
  {
   "cell_type": "code",
   "execution_count": null,
   "metadata": {
    "collapsed": true
   },
   "outputs": [],
   "source": [
    "class mybitarray(bitarray):\n",
    "    def __lshift__(self, count):\n",
    "        return self[count:] + type(self)('0') * count\n",
    "    def __rshift__(self, count):\n",
    "        return type(self)('0') * count + self[:-count]\n",
    "    def __repr__(self):\n",
    "        return \"{}('{}')\".format(type(self).__name__, self.to01())"
   ]
  },
  {
   "cell_type": "code",
   "execution_count": null,
   "metadata": {
    "collapsed": true
   },
   "outputs": [],
   "source": [
    "val = mybitarray(20)"
   ]
  },
  {
   "cell_type": "code",
   "execution_count": null,
   "metadata": {},
   "outputs": [],
   "source": [
    "%timeit val << 5"
   ]
  },
  {
   "cell_type": "code",
   "execution_count": null,
   "metadata": {
    "collapsed": true
   },
   "outputs": [],
   "source": [
    "def get_shift(diff):\n",
    "    return diff.x + diff.y * 20"
   ]
  },
  {
   "cell_type": "markdown",
   "metadata": {},
   "source": [
    "\"000001\" - 1 left -> \"000010\""
   ]
  },
  {
   "cell_type": "code",
   "execution_count": null,
   "metadata": {},
   "outputs": [],
   "source": [
    "arr1[1:5]"
   ]
  },
  {
   "cell_type": "markdown",
   "metadata": {},
   "source": [
    "The issue would be rotating the points:\n",
    "\n",
    "\n",
    "    \n",
    "    we need 4 functions to rotate 0, 90, 180, 270 degrees\n",
    "    "
   ]
  },
  {
   "cell_type": "code",
   "execution_count": null,
   "metadata": {},
   "outputs": [],
   "source": [
    "20 * 10 * 4 * 400"
   ]
  },
  {
   "cell_type": "code",
   "execution_count": null,
   "metadata": {},
   "outputs": [],
   "source": [
    "320000 / 8"
   ]
  },
  {
   "cell_type": "code",
   "execution_count": null,
   "metadata": {},
   "outputs": [],
   "source": [
    "a.any()"
   ]
  },
  {
   "cell_type": "code",
   "execution_count": null,
   "metadata": {},
   "outputs": [],
   "source": [
    "a.pack.__doc__"
   ]
  },
  {
   "cell_type": "code",
   "execution_count": null,
   "metadata": {
    "collapsed": true
   },
   "outputs": [],
   "source": [
    "import numpy as np"
   ]
  },
  {
   "cell_type": "code",
   "execution_count": null,
   "metadata": {},
   "outputs": [],
   "source": [
    "np.array(400)"
   ]
  },
  {
   "cell_type": "code",
   "execution_count": null,
   "metadata": {},
   "outputs": [],
   "source": []
  },
  {
   "cell_type": "code",
   "execution_count": null,
   "metadata": {
    "collapsed": true
   },
   "outputs": [],
   "source": [
    "class Orientation2:\n",
    "    \n",
    "    def __init__(self, points):\n",
    "        self.mask = bitarray(400)\n",
    "        self.mask.setall(0)\n",
    "        ids = [self.get_pos(p) for p in points]\n",
    "        \n",
    "        for i in ids:\n",
    "            self.mask[i] = 1\n",
    "            a\n",
    "            \n",
    "    def get_pos(self, point):\n",
    "        return point.x + 20 * point.y\n",
    "    \n"
   ]
  },
  {
   "cell_type": "code",
   "execution_count": null,
   "metadata": {},
   "outputs": [],
   "source": [
    "\"\"\"This class defines a blokus piece as a collection of orientations.\"\"\"\n",
    "\n",
    "from .orientation import Orientation\n",
    "from .corner import Corner\n",
    "from .point import Point\n",
    "from . import point\n",
    "\n",
    "import itertools\n",
    "import logging\n",
    "\n",
    "\n",
    "class Piece:\n",
    "\n",
    "    def __init__(self, points, piece_id):\n",
    "        self.piece_id = piece_id\n",
    "        self.orientations = set()\n",
    "        o_prime = Orientation(points)\n",
    "        self.add_all_orientations(o_prime)\n",
    "\n",
    "    def add_all_orientations(self, o_prime):\n",
    "        self.add_both(o_prime)\n",
    "        corners = o_prime.get_corners()\n",
    "        for corner in corners:\n",
    "            orientation = self.shift_orientation(o_prime, corner)\n",
    "            rot = corner.get_rotation()\n",
    "            orientation = Orientation(tuple([point.rot180(rot(p)) for p in orientation.points]))\n",
    "            self.add_both(orientation)\n",
    "\n",
    "    def add_both(self, orientation):\n",
    "        self.orientations.add(orientation)\n",
    "        self.orientations.add(orientation.flip())\n",
    "\n",
    "    def shift_orientation(self, orientation, corner):\n",
    "        c_prime = Corner(Point(0, 0), Point(-1, -1))\n",
    "        diff = c_prime.p1 - corner.p1\n",
    "        return Orientation([diff + p for p in orientation.points])\n",
    "\n",
    "    def get_orientation_prime(self):\n",
    "        return min(self.orientations)\n",
    "\n",
    "    def __len__(self):\n",
    "        return len(self.get_orientation_prime())\n",
    "\n",
    "    def __eq__(self, other):\n",
    "        if isinstance(other, Piece):\n",
    "            o_prime_1 = self.get_orientation_prime()\n",
    "            o_prime_2 = other.get_orientation_prime()\n",
    "            return o_prime_1 == o_prime_2\n",
    "        else:\n",
    "            return False\n",
    "\n",
    "    def __ne__(self, other):\n",
    "        return not self == other\n",
    "\n",
    "    def __str__(self):\n",
    "           \n",
    "        return f\"Piece: {self.piece_id}\\n\" + \"\\n\".join([str(o) for o in self.orientations])\n",
    "            \n",
    "def gen_pieces():\n",
    "    \"\"\"Generates the pieces available to a player at the start of a game\"\"\"\n",
    "\n",
    "    pieces = {\n",
    "        'p1': Piece([Point(0, 0)], 'p1'),\n",
    "        'p2': Piece([Point(0, 0), Point(0, 1)], 'p2'),\n",
    "        'p3': Piece([Point(0, 0), Point(0, 1), Point(0, 2)], 'p3'),\n",
    "        'p4': Piece([Point(0, 0), Point(0, 1), Point(1, 1)], 'p4'),\n",
    "        'p5': Piece([Point(0, 0), Point(1, 0), Point(0, 1), Point(1, 1)], 'p5'),\n",
    "        'p6': Piece([Point(0, 0), Point(1, 0), Point(2, 0), Point(3, 0)], 'p6'),\n",
    "        'p7': Piece([Point(0, 0), Point(1, 0), Point(1, 1), Point(2, 1)], 'p7'),\n",
    "        'p8': Piece([Point(0, 0), Point(1, 0), Point(1, 1), Point(2, 0)], 'p8'),\n",
    "        'p9': Piece([Point(0, 0), Point(1, 0), Point(1, 1), Point(2, 1)], 'p9'),\n",
    "        'p10': Piece([Point(0, 0), Point(1, 0), Point(2, 0), Point(3, 0), Point(4, 0)], 'p10'),\n",
    "        'p11': Piece([Point(0, 0), Point(1, 0), Point(2, 0), Point(3, 0), Point(3, 1)], 'p11'),\n",
    "        'p12': Piece([Point(0, 0), Point(1, 0), Point(2, 0), Point(2, 1), Point(3, 1)], 'p12'),\n",
    "        'p13': Piece([Point(0, 0), Point(1, 0), Point(2, 0), Point(1, 1), Point(2, 1)], 'p13'),\n",
    "        'p14': Piece([Point(0, 0), Point(1, 0), Point(2, 0), Point(0, 1), Point(2, 1)], 'p14'),\n",
    "        'p15': Piece([Point(0, 0), Point(1, 0), Point(2, 0), Point(3, 0), Point(2, 1)], 'p15'),\n",
    "        'p16': Piece([Point(0, 0), Point(1, 0), Point(2, 0), Point(1, 1), Point(1, 2)], 'p16'),\n",
    "        'p17': Piece([Point(0, 0), Point(1, 0), Point(2, 0), Point(2, 1), Point(2, 2)], 'p17'),\n",
    "        'p18': Piece([Point(0, 0), Point(1, 0), Point(1, 1), Point(2, 1), Point(2, 2)], 'p18'),\n",
    "        'p19': Piece([Point(0, 0), Point(0, 1), Point(1, 1), Point(2, 1), Point(2, 2)], 'p19'),\n",
    "        'p20': Piece([Point(0, 0), Point(1, 0), Point(1, 1), Point(2, 1), Point(1, 2)], 'p20'),\n",
    "        'p21': Piece([Point(0, 0), Point(1, 0), Point(1, 1), Point(1, -1), Point(2, 0)], 'p21')\n",
    "    }\n",
    "    \n",
    "    return pieces\n",
    "\n"
   ]
  },
  {
   "cell_type": "code",
   "execution_count": null,
   "metadata": {
    "collapsed": true
   },
   "outputs": [],
   "source": [
    "def index_to_point(index):\n",
    "    return Point(index // 20, index % 20)"
   ]
  },
  {
   "cell_type": "code",
   "execution_count": null,
   "metadata": {
    "collapsed": true
   },
   "outputs": [],
   "source": [
    "def point_to_index(point):\n",
    "    return point.y * 20 + point.x"
   ]
  },
  {
   "cell_type": "code",
   "execution_count": null,
   "metadata": {},
   "outputs": [],
   "source": [
    "p = index_to_point(274)"
   ]
  },
  {
   "cell_type": "code",
   "execution_count": null,
   "metadata": {},
   "outputs": [],
   "source": [
    "i = point_to_index(p)"
   ]
  },
  {
   "cell_type": "code",
   "execution_count": null,
   "metadata": {},
   "outputs": [],
   "source": [
    "%timeit frozenset([(0, 0), (0, 1), (1, 1)])"
   ]
  },
  {
   "cell_type": "code",
   "execution_count": null,
   "metadata": {},
   "outputs": [],
   "source": [
    "%timeit frozenset([Point(0, 0), Point(0, 1), Point(1, 1)])"
   ]
  },
  {
   "cell_type": "code",
   "execution_count": null,
   "metadata": {},
   "outputs": [],
   "source": []
  },
  {
   "cell_type": "code",
   "execution_count": null,
   "metadata": {
    "collapsed": true
   },
   "outputs": [],
   "source": []
  }
 ],
 "metadata": {
  "kernelspec": {
   "display_name": "Python 3",
   "language": "python",
   "name": "python3"
  },
  "language_info": {
   "codemirror_mode": {
    "name": "ipython",
    "version": 3
   },
   "file_extension": ".py",
   "mimetype": "text/x-python",
   "name": "python",
   "nbconvert_exporter": "python",
   "pygments_lexer": "ipython3",
   "version": "3.6.2"
  }
 },
 "nbformat": 4,
 "nbformat_minor": 2
}
