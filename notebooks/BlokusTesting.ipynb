{
 "cells": [
  {
   "cell_type": "code",
   "execution_count": 1,
   "metadata": {},
   "outputs": [],
   "source": [
    "from block_ai.lib.myblokus import point\n",
    "from block_ai.lib.myblokus.game_engine import GameEngine\n",
    "from block_ai.lib.myblokus.game import Game\n",
    "from block_ai.lib.myblokus.point import Point\n",
    "from block_ai.lib.myblokus.piece import Piece\n",
    "from block_ai.lib.myblokus.corner import Corner\n",
    "from block_ai.lib.myblokus.orientation import Orientation\n",
    "from block_ai.lib.myblokus.board import Board\n",
    "from block_ai.lib.myblokus.move import Move\n",
    "from block_ai.lib.myblokus.agent import HumanInput\n",
    "from block_ai.lib.myblokus.board_view import BoardView\n",
    "\n",
    "import itertools\n",
    "import numpy as np\n",
    "import random\n",
    "\n",
    "import matplotlib.pyplot as plt\n",
    "import matplotlib.pyplot as plt\n",
    "import matplotlib.patches as patches\n",
    "\n",
    "%load_ext line_profiler\n",
    "\n",
    "import logging\n",
    "from copy import deepcopy\n",
    "\n",
    "logger = logging.getLogger()\n",
    "logger.setLevel(logging.WARNING)"
   ]
  },
  {
   "cell_type": "code",
   "execution_count": 2,
   "metadata": {},
   "outputs": [],
   "source": [
    "bv = BoardView()"
   ]
  },
  {
   "cell_type": "code",
   "execution_count": 3,
   "metadata": {},
   "outputs": [],
   "source": [
    "b = Board()"
   ]
  },
  {
   "cell_type": "code",
   "execution_count": 4,
   "metadata": {},
   "outputs": [
    {
     "name": "stderr",
     "output_type": "stream",
     "text": [
      "/Applications/anaconda/lib/python3.6/site-packages/matplotlib/figure.py:403: UserWarning: matplotlib is currently using a non-GUI backend, so cannot show the figure\n",
      "  \"matplotlib is currently using a non-GUI backend, \"\n"
     ]
    }
   ],
   "source": [
    "bv.display()"
   ]
  },
  {
   "cell_type": "code",
   "execution_count": null,
   "metadata": {
    "collapsed": true
   },
   "outputs": [],
   "source": []
  },
  {
   "cell_type": "code",
   "execution_count": 2,
   "metadata": {
    "collapsed": true
   },
   "outputs": [],
   "source": [
    "ge = GameEngine(True)"
   ]
  },
  {
   "cell_type": "code",
   "execution_count": 3,
   "metadata": {
    "scrolled": false
   },
   "outputs": [
    {
     "data": {
      "image/png": "[encoded data removed]",
      "text/plain": [
       "<matplotlib.figure.Figure at 0x10c1ef198>"
      ]
     },
     "metadata": {},
     "output_type": "display_data"
    },
    {
     "data": {
      "image/png": "[encoded data removed]",
      "text/plain": [
       "<matplotlib.figure.Figure at 0x10c1fd828>"
      ]
     },
     "metadata": {},
     "output_type": "display_data"
    },
    {
     "data": {
      "image/png": "[encoded data removed]",
      "text/plain": [
       "<matplotlib.figure.Figure at 0x10c20e128>"
      ]
     },
     "metadata": {},
     "output_type": "display_data"
    },
    {
     "ename": "KeyboardInterrupt",
     "evalue": "",
     "output_type": "error",
     "traceback": [
      "\u001b[0;31m---------------------------------------------------------------------------\u001b[0m",
      "\u001b[0;31mKeyboardInterrupt\u001b[0m                         Traceback (most recent call last)",
      "\u001b[0;32m/Applications/anaconda/lib/python3.6/site-packages/ipykernel/kernelbase.py\u001b[0m in \u001b[0;36m_input_request\u001b[0;34m(self, prompt, ident, parent, password)\u001b[0m\n\u001b[1;32m    729\u001b[0m             \u001b[0;32mtry\u001b[0m\u001b[0;34m:\u001b[0m\u001b[0;34m\u001b[0m\u001b[0m\n\u001b[0;32m--> 730\u001b[0;31m                 \u001b[0mident\u001b[0m\u001b[0;34m,\u001b[0m \u001b[0mreply\u001b[0m \u001b[0;34m=\u001b[0m \u001b[0mself\u001b[0m\u001b[0;34m.\u001b[0m\u001b[0msession\u001b[0m\u001b[0;34m.\u001b[0m\u001b[0mrecv\u001b[0m\u001b[0;34m(\u001b[0m\u001b[0mself\u001b[0m\u001b[0;34m.\u001b[0m\u001b[0mstdin_socket\u001b[0m\u001b[0;34m,\u001b[0m \u001b[0;36m0\u001b[0m\u001b[0;34m)\u001b[0m\u001b[0;34m\u001b[0m\u001b[0m\n\u001b[0m\u001b[1;32m    731\u001b[0m             \u001b[0;32mexcept\u001b[0m \u001b[0mException\u001b[0m\u001b[0;34m:\u001b[0m\u001b[0;34m\u001b[0m\u001b[0m\n",
      "\u001b[0;32m/Applications/anaconda/lib/python3.6/site-packages/jupyter_client/session.py\u001b[0m in \u001b[0;36mrecv\u001b[0;34m(self, socket, mode, content, copy)\u001b[0m\n\u001b[1;32m    777\u001b[0m         \u001b[0;32mtry\u001b[0m\u001b[0;34m:\u001b[0m\u001b[0;34m\u001b[0m\u001b[0m\n\u001b[0;32m--> 778\u001b[0;31m             \u001b[0mmsg_list\u001b[0m \u001b[0;34m=\u001b[0m \u001b[0msocket\u001b[0m\u001b[0;34m.\u001b[0m\u001b[0mrecv_multipart\u001b[0m\u001b[0;34m(\u001b[0m\u001b[0mmode\u001b[0m\u001b[0;34m,\u001b[0m \u001b[0mcopy\u001b[0m\u001b[0;34m=\u001b[0m\u001b[0mcopy\u001b[0m\u001b[0;34m)\u001b[0m\u001b[0;34m\u001b[0m\u001b[0m\n\u001b[0m\u001b[1;32m    779\u001b[0m         \u001b[0;32mexcept\u001b[0m \u001b[0mzmq\u001b[0m\u001b[0;34m.\u001b[0m\u001b[0mZMQError\u001b[0m \u001b[0;32mas\u001b[0m \u001b[0me\u001b[0m\u001b[0;34m:\u001b[0m\u001b[0;34m\u001b[0m\u001b[0m\n",
      "\u001b[0;32m/Applications/anaconda/lib/python3.6/site-packages/zmq/sugar/socket.py\u001b[0m in \u001b[0;36mrecv_multipart\u001b[0;34m(self, flags, copy, track)\u001b[0m\n\u001b[1;32m    394\u001b[0m         \"\"\"\n\u001b[0;32m--> 395\u001b[0;31m         \u001b[0mparts\u001b[0m \u001b[0;34m=\u001b[0m \u001b[0;34m[\u001b[0m\u001b[0mself\u001b[0m\u001b[0;34m.\u001b[0m\u001b[0mrecv\u001b[0m\u001b[0;34m(\u001b[0m\u001b[0mflags\u001b[0m\u001b[0;34m,\u001b[0m \u001b[0mcopy\u001b[0m\u001b[0;34m=\u001b[0m\u001b[0mcopy\u001b[0m\u001b[0;34m,\u001b[0m \u001b[0mtrack\u001b[0m\u001b[0;34m=\u001b[0m\u001b[0mtrack\u001b[0m\u001b[0;34m)\u001b[0m\u001b[0;34m]\u001b[0m\u001b[0;34m\u001b[0m\u001b[0m\n\u001b[0m\u001b[1;32m    396\u001b[0m         \u001b[0;31m# have first part already, only loop while more to receive\u001b[0m\u001b[0;34m\u001b[0m\u001b[0;34m\u001b[0m\u001b[0m\n",
      "\u001b[0;32mzmq/backend/cython/socket.pyx\u001b[0m in \u001b[0;36mzmq.backend.cython.socket.Socket.recv (zmq/backend/cython/socket.c:7683)\u001b[0;34m()\u001b[0m\n",
      "\u001b[0;32mzmq/backend/cython/socket.pyx\u001b[0m in \u001b[0;36mzmq.backend.cython.socket.Socket.recv (zmq/backend/cython/socket.c:7460)\u001b[0;34m()\u001b[0m\n",
      "\u001b[0;32mzmq/backend/cython/socket.pyx\u001b[0m in \u001b[0;36mzmq.backend.cython.socket._recv_copy (zmq/backend/cython/socket.c:2344)\u001b[0;34m()\u001b[0m\n",
      "\u001b[0;32m/Applications/anaconda/lib/python3.6/site-packages/zmq/backend/cython/checkrc.pxd\u001b[0m in \u001b[0;36mzmq.backend.cython.checkrc._check_rc (zmq/backend/cython/socket.c:9621)\u001b[0;34m()\u001b[0m\n",
      "\u001b[0;31mKeyboardInterrupt\u001b[0m: ",
      "\nDuring handling of the above exception, another exception occurred:\n",
      "\u001b[0;31mKeyboardInterrupt\u001b[0m                         Traceback (most recent call last)",
      "\u001b[0;32m<ipython-input-3-beaf7f07e967>\u001b[0m in \u001b[0;36m<module>\u001b[0;34m()\u001b[0m\n\u001b[0;32m----> 1\u001b[0;31m \u001b[0mge\u001b[0m\u001b[0;34m.\u001b[0m\u001b[0mplay_game\u001b[0m\u001b[0;34m(\u001b[0m\u001b[0;34m)\u001b[0m\u001b[0;34m\u001b[0m\u001b[0m\n\u001b[0m",
      "\u001b[0;32m/Users/benm/Desktop/main/Projects/repos/blockAI/block_ai/lib/myblokus/game_engine.py\u001b[0m in \u001b[0;36mplay_game\u001b[0;34m(self)\u001b[0m\n\u001b[1;32m     16\u001b[0m         \u001b[0;32mwhile\u001b[0m \u001b[0;32mTrue\u001b[0m\u001b[0;34m:\u001b[0m\u001b[0;34m\u001b[0m\u001b[0m\n\u001b[1;32m     17\u001b[0m             \u001b[0;32mtry\u001b[0m\u001b[0;34m:\u001b[0m\u001b[0;34m\u001b[0m\u001b[0m\n\u001b[0;32m---> 18\u001b[0;31m                 \u001b[0mself\u001b[0m\u001b[0;34m.\u001b[0m\u001b[0mplay_turn\u001b[0m\u001b[0;34m(\u001b[0m\u001b[0;34m)\u001b[0m\u001b[0;34m\u001b[0m\u001b[0m\n\u001b[0m\u001b[1;32m     19\u001b[0m             \u001b[0;32mexcept\u001b[0m \u001b[0mGameEnd\u001b[0m\u001b[0;34m:\u001b[0m\u001b[0;34m\u001b[0m\u001b[0m\n\u001b[1;32m     20\u001b[0m                 \u001b[0;32mbreak\u001b[0m\u001b[0;34m\u001b[0m\u001b[0m\n",
      "\u001b[0;32m/Users/benm/Desktop/main/Projects/repos/blockAI/block_ai/lib/myblokus/game_engine.py\u001b[0m in \u001b[0;36mplay_turn\u001b[0;34m(self)\u001b[0m\n\u001b[1;32m     22\u001b[0m     \u001b[0;32mdef\u001b[0m \u001b[0mplay_turn\u001b[0m\u001b[0;34m(\u001b[0m\u001b[0mself\u001b[0m\u001b[0;34m)\u001b[0m\u001b[0;34m:\u001b[0m\u001b[0;34m\u001b[0m\u001b[0m\n\u001b[1;32m     23\u001b[0m         \u001b[0;32mtry\u001b[0m\u001b[0;34m:\u001b[0m\u001b[0;34m\u001b[0m\u001b[0m\n\u001b[0;32m---> 24\u001b[0;31m             \u001b[0mm\u001b[0m \u001b[0;34m=\u001b[0m \u001b[0mself\u001b[0m\u001b[0;34m.\u001b[0m\u001b[0mget_move\u001b[0m\u001b[0;34m(\u001b[0m\u001b[0;34m)\u001b[0m\u001b[0;34m\u001b[0m\u001b[0m\n\u001b[0m\u001b[1;32m     25\u001b[0m             \u001b[0mself\u001b[0m\u001b[0;34m.\u001b[0m\u001b[0mgame\u001b[0m\u001b[0;34m.\u001b[0m\u001b[0mmake_move\u001b[0m\u001b[0;34m(\u001b[0m\u001b[0mm\u001b[0m\u001b[0;34m)\u001b[0m\u001b[0;34m\u001b[0m\u001b[0m\n\u001b[1;32m     26\u001b[0m         \u001b[0;32mexcept\u001b[0m \u001b[0mRuntimeError\u001b[0m \u001b[0;32mas\u001b[0m \u001b[0merr\u001b[0m\u001b[0;34m:\u001b[0m\u001b[0;34m\u001b[0m\u001b[0m\n",
      "\u001b[0;32m/Users/benm/Desktop/main/Projects/repos/blockAI/block_ai/lib/myblokus/game_engine.py\u001b[0m in \u001b[0;36mget_move\u001b[0;34m(self)\u001b[0m\n\u001b[1;32m     36\u001b[0m         \u001b[0magent\u001b[0m \u001b[0;34m=\u001b[0m \u001b[0mself\u001b[0m\u001b[0;34m.\u001b[0m\u001b[0mplayers\u001b[0m\u001b[0;34m[\u001b[0m\u001b[0mptr\u001b[0m\u001b[0;34m]\u001b[0m\u001b[0;34m\u001b[0m\u001b[0m\n\u001b[1;32m     37\u001b[0m         \u001b[0mlogging\u001b[0m\u001b[0;34m.\u001b[0m\u001b[0minfo\u001b[0m\u001b[0;34m(\u001b[0m\u001b[0;34m\"Agent id: %s\"\u001b[0m\u001b[0;34m,\u001b[0m \u001b[0magent\u001b[0m\u001b[0;34m.\u001b[0m\u001b[0mplayer_id\u001b[0m\u001b[0;34m)\u001b[0m\u001b[0;34m\u001b[0m\u001b[0m\n\u001b[0;32m---> 38\u001b[0;31m         \u001b[0;32mreturn\u001b[0m \u001b[0magent\u001b[0m\u001b[0;34m.\u001b[0m\u001b[0mget_move\u001b[0m\u001b[0;34m(\u001b[0m\u001b[0mself\u001b[0m\u001b[0;34m.\u001b[0m\u001b[0mgame\u001b[0m\u001b[0;34m)\u001b[0m\u001b[0;34m\u001b[0m\u001b[0m\n\u001b[0m",
      "\u001b[0;32m/Users/benm/Desktop/main/Projects/repos/blockAI/block_ai/lib/myblokus/agent.py\u001b[0m in \u001b[0;36mget_move\u001b[0;34m(self, game)\u001b[0m\n\u001b[1;32m     40\u001b[0m         \u001b[0mplayer\u001b[0m \u001b[0;34m=\u001b[0m \u001b[0mgame\u001b[0m\u001b[0;34m.\u001b[0m\u001b[0mplayers\u001b[0m\u001b[0;34m[\u001b[0m\u001b[0mself\u001b[0m\u001b[0;34m.\u001b[0m\u001b[0mplayer_id\u001b[0m\u001b[0;34m]\u001b[0m\u001b[0;34m\u001b[0m\u001b[0m\n\u001b[1;32m     41\u001b[0m \u001b[0;34m\u001b[0m\u001b[0m\n\u001b[0;32m---> 42\u001b[0;31m         \u001b[0mpiece\u001b[0m \u001b[0;34m=\u001b[0m \u001b[0mself\u001b[0m\u001b[0;34m.\u001b[0m\u001b[0mpick_piece\u001b[0m\u001b[0;34m(\u001b[0m\u001b[0mplayer\u001b[0m\u001b[0;34m)\u001b[0m\u001b[0;34m\u001b[0m\u001b[0m\n\u001b[0m\u001b[1;32m     43\u001b[0m \u001b[0;34m\u001b[0m\u001b[0m\n\u001b[1;32m     44\u001b[0m         \u001b[0mcorner\u001b[0m \u001b[0;34m=\u001b[0m \u001b[0mself\u001b[0m\u001b[0;34m.\u001b[0m\u001b[0mpick_corner\u001b[0m\u001b[0;34m(\u001b[0m\u001b[0mplayer\u001b[0m\u001b[0;34m,\u001b[0m \u001b[0mpiece\u001b[0m\u001b[0;34m)\u001b[0m\u001b[0;34m\u001b[0m\u001b[0m\n",
      "\u001b[0;32m/Users/benm/Desktop/main/Projects/repos/blockAI/block_ai/lib/myblokus/agent.py\u001b[0m in \u001b[0;36mpick_piece\u001b[0;34m(self, player)\u001b[0m\n\u001b[1;32m     58\u001b[0m \u001b[0;34m\u001b[0m\u001b[0m\n\u001b[1;32m     59\u001b[0m         \u001b[0;32mwhile\u001b[0m \u001b[0;32mTrue\u001b[0m\u001b[0;34m:\u001b[0m\u001b[0;34m\u001b[0m\u001b[0m\n\u001b[0;32m---> 60\u001b[0;31m             \u001b[0mpiece\u001b[0m \u001b[0;34m=\u001b[0m \u001b[0minput\u001b[0m\u001b[0;34m(\u001b[0m\u001b[0mstring\u001b[0m\u001b[0;34m)\u001b[0m\u001b[0;34m\u001b[0m\u001b[0m\n\u001b[0m\u001b[1;32m     61\u001b[0m             \u001b[0;32mif\u001b[0m \u001b[0mpiece\u001b[0m \u001b[0;32min\u001b[0m \u001b[0mpieces\u001b[0m\u001b[0;34m:\u001b[0m\u001b[0;34m\u001b[0m\u001b[0m\n\u001b[1;32m     62\u001b[0m                 \u001b[0;32mreturn\u001b[0m \u001b[0mpiece\u001b[0m\u001b[0;34m\u001b[0m\u001b[0m\n",
      "\u001b[0;32m/Applications/anaconda/lib/python3.6/site-packages/ipykernel/kernelbase.py\u001b[0m in \u001b[0;36mraw_input\u001b[0;34m(self, prompt)\u001b[0m\n\u001b[1;32m    703\u001b[0m             \u001b[0mself\u001b[0m\u001b[0;34m.\u001b[0m\u001b[0m_parent_ident\u001b[0m\u001b[0;34m,\u001b[0m\u001b[0;34m\u001b[0m\u001b[0m\n\u001b[1;32m    704\u001b[0m             \u001b[0mself\u001b[0m\u001b[0;34m.\u001b[0m\u001b[0m_parent_header\u001b[0m\u001b[0;34m,\u001b[0m\u001b[0;34m\u001b[0m\u001b[0m\n\u001b[0;32m--> 705\u001b[0;31m             \u001b[0mpassword\u001b[0m\u001b[0;34m=\u001b[0m\u001b[0;32mFalse\u001b[0m\u001b[0;34m,\u001b[0m\u001b[0;34m\u001b[0m\u001b[0m\n\u001b[0m\u001b[1;32m    706\u001b[0m         )\n\u001b[1;32m    707\u001b[0m \u001b[0;34m\u001b[0m\u001b[0m\n",
      "\u001b[0;32m/Applications/anaconda/lib/python3.6/site-packages/ipykernel/kernelbase.py\u001b[0m in \u001b[0;36m_input_request\u001b[0;34m(self, prompt, ident, parent, password)\u001b[0m\n\u001b[1;32m    733\u001b[0m             \u001b[0;32mexcept\u001b[0m \u001b[0mKeyboardInterrupt\u001b[0m\u001b[0;34m:\u001b[0m\u001b[0;34m\u001b[0m\u001b[0m\n\u001b[1;32m    734\u001b[0m                 \u001b[0;31m# re-raise KeyboardInterrupt, to truncate traceback\u001b[0m\u001b[0;34m\u001b[0m\u001b[0;34m\u001b[0m\u001b[0m\n\u001b[0;32m--> 735\u001b[0;31m                 \u001b[0;32mraise\u001b[0m \u001b[0mKeyboardInterrupt\u001b[0m\u001b[0;34m\u001b[0m\u001b[0m\n\u001b[0m\u001b[1;32m    736\u001b[0m             \u001b[0;32melse\u001b[0m\u001b[0;34m:\u001b[0m\u001b[0;34m\u001b[0m\u001b[0m\n\u001b[1;32m    737\u001b[0m                 \u001b[0;32mbreak\u001b[0m\u001b[0;34m\u001b[0m\u001b[0m\n",
      "\u001b[0;31mKeyboardInterrupt\u001b[0m: "
     ]
    }
   ],
   "source": [
    "ge.play_game()"
   ]
  },
  {
   "cell_type": "code",
   "execution_count": null,
   "metadata": {
    "collapsed": true
   },
   "outputs": [],
   "source": [
    "def get_avg_moves_per_game():\n",
    "    products = []\n",
    "\n",
    "    for i in range(100):\n",
    "\n",
    "        if i > 0 and i % 10 == 0:\n",
    "            print(i)\n",
    "\n",
    "        product = get_moves_per_game()\n",
    "        products.append(product)\n",
    "        \n",
    "def get_moves_per_game():\n",
    "    ge = GameEngine()\n",
    "    move_counts = []\n",
    "    while True:\n",
    "        try:\n",
    "            player_id = ge.game.player_pointer\n",
    "            moves = list(ge.game.get_players_moves(player_id))\n",
    "            move_counts.append((player_id, len(moves)))\n",
    "            ge.play_turn()\n",
    "\n",
    "        except GameEnd:\n",
    "            break\n",
    "\n",
    "    ids, options = zip(*move_counts)\n",
    "    options = [float(o) for o in options]\n",
    "    product = np.product(options)\n",
    "    return product"
   ]
  },
  {
   "cell_type": "code",
   "execution_count": null,
   "metadata": {
    "collapsed": true
   },
   "outputs": [],
   "source": [
    "ge.game.get_scores()"
   ]
  },
  {
   "cell_type": "code",
   "execution_count": null,
   "metadata": {
    "collapsed": true
   },
   "outputs": [],
   "source": [
    "ge.game.display()"
   ]
  },
  {
   "cell_type": "code",
   "execution_count": null,
   "metadata": {
    "collapsed": true
   },
   "outputs": [],
   "source": [
    "logger.setLevel(logging.WARNING)\n",
    "\n",
    "game = Game()\n",
    "\n",
    "for m in moves[:47]:\n",
    "    game.make_move(m)\n"
   ]
  },
  {
   "cell_type": "code",
   "execution_count": null,
   "metadata": {
    "collapsed": true
   },
   "outputs": [],
   "source": [
    "logger.setLevel(logging.INFO)"
   ]
  },
  {
   "cell_type": "code",
   "execution_count": null,
   "metadata": {
    "collapsed": true
   },
   "outputs": [],
   "source": [
    "game.is_move_valid(moves[47])"
   ]
  },
  {
   "cell_type": "code",
   "execution_count": null,
   "metadata": {
    "collapsed": true
   },
   "outputs": [],
   "source": [
    "game.display()"
   ]
  },
  {
   "cell_type": "code",
   "execution_count": null,
   "metadata": {
    "collapsed": true
   },
   "outputs": [],
   "source": [
    "bad_move = ge.game.move_history[47]"
   ]
  },
  {
   "cell_type": "code",
   "execution_count": null,
   "metadata": {
    "collapsed": true
   },
   "outputs": [],
   "source": []
  },
  {
   "cell_type": "code",
   "execution_count": null,
   "metadata": {
    "collapsed": true
   },
   "outputs": [],
   "source": [
    "for m in game_copy.get_players_moves(3):\n",
    "    print(m)\n",
    "    game_copy = deepcopy(game)\n",
    "    game_copy.make_move(m)\n",
    "    game_copy.display(m.player_id)"
   ]
  },
  {
   "cell_type": "code",
   "execution_count": null,
   "metadata": {
    "collapsed": true
   },
   "outputs": [],
   "source": [
    "m = ge.game.move_history[47]\n",
    "\n",
    "is_move_valid()"
   ]
  },
  {
   "cell_type": "code",
   "execution_count": null,
   "metadata": {
    "collapsed": true
   },
   "outputs": [],
   "source": [
    "game.display(3)"
   ]
  },
  {
   "cell_type": "code",
   "execution_count": null,
   "metadata": {
    "collapsed": true
   },
   "outputs": [],
   "source": [
    "logger.setLevel(logging.DEBUG)"
   ]
  },
  {
   "cell_type": "code",
   "execution_count": null,
   "metadata": {
    "collapsed": true
   },
   "outputs": [],
   "source": []
  },
  {
   "cell_type": "code",
   "execution_count": null,
   "metadata": {
    "collapsed": true
   },
   "outputs": [],
   "source": [
    "game.make_move(ge.game.move_history[36])"
   ]
  },
  {
   "cell_type": "code",
   "execution_count": null,
   "metadata": {
    "collapsed": true
   },
   "outputs": [],
   "source": [
    "game.display(3)"
   ]
  },
  {
   "cell_type": "code",
   "execution_count": null,
   "metadata": {
    "collapsed": true
   },
   "outputs": [],
   "source": [
    "game.get_valid_moves()"
   ]
  },
  {
   "cell_type": "code",
   "execution_count": null,
   "metadata": {
    "collapsed": true
   },
   "outputs": [],
   "source": [
    "moves = list(game.get_players_moves(3))\n",
    "\n",
    "vals = set()\n",
    "\n",
    "for i, move in enumerate(moves):\n",
    "    val = tuple(move.get_footprint())\n",
    "    vals.add(val)"
   ]
  },
  {
   "cell_type": "code",
   "execution_count": null,
   "metadata": {
    "collapsed": true
   },
   "outputs": [],
   "source": [
    "len(moves)"
   ]
  },
  {
   "cell_type": "code",
   "execution_count": null,
   "metadata": {
    "collapsed": true
   },
   "outputs": [],
   "source": [
    "for move in moves:\n",
    "    g = deepcopy(game)\n",
    "    g.make_move(move)"
   ]
  },
  {
   "cell_type": "code",
   "execution_count": null,
   "metadata": {
    "collapsed": true
   },
   "outputs": [],
   "source": [
    "def test():\n",
    "    g = deepcopy(game)"
   ]
  },
  {
   "cell_type": "code",
   "execution_count": null,
   "metadata": {
    "collapsed": true
   },
   "outputs": [],
   "source": [
    "%lprun \n",
    "\n",
    "%lprun -f deepcopy test()"
   ]
  },
  {
   "cell_type": "code",
   "execution_count": 54,
   "metadata": {
    "collapsed": true
   },
   "outputs": [],
   "source": [
    "import matplotlib.pyplot as plt\n",
    "import matplotlib.patches as patches\n",
    "\n",
    "class BoardView:\n",
    "    n = 20\n",
    "    canvasSize = (n,n)\n",
    "    my_dpi = 20\n",
    "    \n",
    "    def __init__(self, board):\n",
    "        self.fix, self.ax = self.createCanvas(self.canvasSize[0],\n",
    "                                              self.canvasSize[1],\n",
    "                                              self.my_dpi)\n",
    "\n",
    "        self.rects = {}\n",
    "        for row in range(self.n):\n",
    "            for col in range(self.n):\n",
    "                color = self.get_color(board[row][col])\n",
    "                key = f\"({col}, {row})\"\n",
    "                rect = self.createRectangle((1,1),(col,row),canvasSize,color)\n",
    "                self.rects[key] = rect\n",
    "                ax.add_patch(rect)\n",
    "\n",
    "    def update(point, color):\n",
    "        key = f\"({point.x}, {point.y})\"\n",
    "        rects[key]\n",
    "        \n",
    "    def display(self):\n",
    "        plt.show()\n",
    "\n",
    "    def createCanvas(self, width,height,my_dpi):\n",
    "        fig,ax = plt.subplots(1)\n",
    "        fig.dpi= my_dpi\n",
    "        fig.set_size_inches(width,height)\n",
    "        ax.set_xticks([])\n",
    "        ax.set_yticks([])\n",
    "        return fig,ax\n",
    "\n",
    "    def createRectangle(self, wh, xy, cwch, color=\"black\"):\n",
    "        \"\"\"\n",
    "        All units are in inches. \n",
    "\n",
    "        Parameters\n",
    "        ==========\n",
    "        wh: (width,height) \n",
    "        xy: (x,y)\n",
    "        cwch: (canvasWidth,canvasHeight)\n",
    "        \"\"\"\n",
    "        return patches.Rectangle((xy[0]/cwch[0],xy[1]/cwch[1]),wh[0]/cwch[0],wh[1]/cwch[1],color=color)\n",
    "\n",
    "    def get_color(self, val):\n",
    "        mapping = {\n",
    "            -1: \"#DCDCDC\",\n",
    "            0: \"yellow\",\n",
    "            1: \"red\",\n",
    "            2: \"green\",\n",
    "            3: \"blue\",\n",
    "            4: \"orange\",\n",
    "            5: \"purple\",\n",
    "            6: \"black\"\n",
    "        }\n",
    "        return mapping[val]\n"
   ]
  },
  {
   "cell_type": "code",
   "execution_count": 55,
   "metadata": {},
   "outputs": [],
   "source": [
    "board = np.full((20, 20), -1)"
   ]
  },
  {
   "cell_type": "code",
   "execution_count": 56,
   "metadata": {},
   "outputs": [],
   "source": [
    "bv = BoardView(board)"
   ]
  },
  {
   "cell_type": "code",
   "execution_count": 57,
   "metadata": {},
   "outputs": [],
   "source": [
    "bv.rects['(0, 0)'].set_color('blue')"
   ]
  },
  {
   "cell_type": "code",
   "execution_count": 58,
   "metadata": {},
   "outputs": [
    {
     "data": {
      "image/png": "[encoded data removed]",
      "text/plain": [
       "<matplotlib.figure.Figure at 0x10f8cf8d0>"
      ]
     },
     "metadata": {},
     "output_type": "display_data"
    },
    {
     "data": {
      "image/png": "[encoded data removed]",
      "text/plain": [
       "<matplotlib.figure.Figure at 0x10fb42f28>"
      ]
     },
     "metadata": {},
     "output_type": "display_data"
    },
    {
     "data": {
      "image/png": "[encoded data removed]",
      "text/plain": [
       "<matplotlib.figure.Figure at 0x10fce40f0>"
      ]
     },
     "metadata": {},
     "output_type": "display_data"
    },
    {
     "data": {
      "image/png": "[encoded data removed]",
      "text/plain": [
       "<matplotlib.figure.Figure at 0x10fd05a90>"
      ]
     },
     "metadata": {},
     "output_type": "display_data"
    },
    {
     "data": {
      "image/png": "[encoded data removed]",
      "text/plain": [
       "<matplotlib.figure.Figure at 0x10ffe4f98>"
      ]
     },
     "metadata": {},
     "output_type": "display_data"
    },
    {
     "data": {
      "image/png": "[encoded data removed]",
      "text/plain": [
       "<matplotlib.figure.Figure at 0x10fc4e748>"
      ]
     },
     "metadata": {},
     "output_type": "display_data"
    },
    {
     "data": {
      "image/png": "[encoded data removed]",
      "text/plain": [
       "<matplotlib.figure.Figure at 0x10f698f98>"
      ]
     },
     "metadata": {},
     "output_type": "display_data"
    },
    {
     "data": {
      "image/png": "[encoded data removed]",
      "text/plain": [
       "<matplotlib.figure.Figure at 0x11007b5f8>"
      ]
     },
     "metadata": {},
     "output_type": "display_data"
    },
    {
     "data": {
      "image/png": "[encoded data removed]",
      "text/plain": [
       "<matplotlib.figure.Figure at 0x10f58eba8>"
      ]
     },
     "metadata": {},
     "output_type": "display_data"
    },
    {
     "data": {
      "image/png": "[encoded data removed]",
      "text/plain": [
       "<matplotlib.figure.Figure at 0x110206048>"
      ]
     },
     "metadata": {},
     "output_type": "display_data"
    }
   ],
   "source": [
    "bv.display()"
   ]
  },
  {
   "cell_type": "code",
   "execution_count": 38,
   "metadata": {},
   "outputs": [
    {
     "ename": "AttributeError",
     "evalue": "'AxesSubplot' object has no attribute 'show'",
     "output_type": "error",
     "traceback": [
      "\u001b[0;31m---------------------------------------------------------------------------\u001b[0m",
      "\u001b[0;31mAttributeError\u001b[0m                            Traceback (most recent call last)",
      "\u001b[0;32m<ipython-input-38-a4fbaa776292>\u001b[0m in \u001b[0;36m<module>\u001b[0;34m()\u001b[0m\n\u001b[1;32m      9\u001b[0m \u001b[0max\u001b[0m\u001b[0;34m.\u001b[0m\u001b[0mset_yticks\u001b[0m\u001b[0;34m(\u001b[0m\u001b[0;34m[\u001b[0m\u001b[0;34m]\u001b[0m\u001b[0;34m)\u001b[0m\u001b[0;34m\u001b[0m\u001b[0m\n\u001b[1;32m     10\u001b[0m \u001b[0;34m\u001b[0m\u001b[0m\n\u001b[0;32m---> 11\u001b[0;31m \u001b[0max\u001b[0m\u001b[0;34m.\u001b[0m\u001b[0mshow\u001b[0m\u001b[0;34m(\u001b[0m\u001b[0;34m)\u001b[0m\u001b[0;34m\u001b[0m\u001b[0m\n\u001b[0m",
      "\u001b[0;31mAttributeError\u001b[0m: 'AxesSubplot' object has no attribute 'show'"
     ]
    }
   ],
   "source": [
    "n = 20\n",
    "canvasSize = (n,n)\n",
    "my_dpi = 20\n",
    "\n",
    "fig,ax = plt.subplots(1)\n",
    "fig.dpi= my_dpi\n",
    "fig.set_size_inches(20,20)\n",
    "ax.set_xticks([])\n",
    "ax.set_yticks([])\n"
   ]
  },
  {
   "cell_type": "code",
   "execution_count": null,
   "metadata": {
    "collapsed": true
   },
   "outputs": [],
   "source": [
    "len(moves)"
   ]
  },
  {
   "cell_type": "markdown",
   "metadata": {},
   "source": [
    "50% of get corner moves involves rotating points. Are matracies faster?\n",
    "\n",
    "Nagging Ideas:\n",
    "     -  I should set the seeds for random players to or replay a game based on move history\n",
    "        so that the runtimes are the same\n",
    "    \n",
    "     -  write tests so I don't break anything making optimizations\n",
    "\n",
    "     -  Speed up BoardViewer \n",
    "\n",
    "Optimization Ideas:\n",
    "     - lots of runtime spend rotating points. Are np.arrays / rot methods faster?\n",
    "     \n",
    "     - a bunch of time is spent converting orientations to sets in player.validate_move\n",
    "         - raise try / catch is pretty expensive though it's nice to have reason why move is invalid\n",
    "         - could use a boolean check + explain menthod (a little ugly)\n",
    "  \n",
    "     - logging can slow down stuff remove ones from the inner most loops"
   ]
  },
  {
   "cell_type": "markdown",
   "metadata": {},
   "source": [
    "Fixed Logging\n",
    "\n",
    "File: <ipython-input-74-8f1a337fe857>\n",
    "Function: add_corner_moves at line 45\n",
    "\n",
    "Line #      Hits         Time  Per Hit   % Time  Line Contents\n",
    "==============================================================\n",
    "    45                                               def add_corner_moves(self, corner, player_id):\n",
    "    46       336        358.0      1.1      0.0          player = self.players[player_id]\n",
    "    47       336       3075.0      9.2      0.2          rotation = corner.get_rotation()\n",
    "    48                                                   \n",
    "    49       336        946.0      2.8      0.1          if not Board.on_board(corner.p2):\n",
    "    50        45        159.0      3.5      0.0              logging.info(\"Corner %s is off board\", corner)\n",
    "    51        45         18.0      0.4      0.0              return\n",
    "    52                                                   \n",
    "    53       291       1214.0      4.2      0.1          logging.info(\"Adding corner %s moves\", corner)\n",
    "    54      4006       2874.0      0.7      0.2          for piece_id, piece in player.pieces.items():\n",
    "    55                                                       \n",
    "    56     20724      13778.0      0.7      0.8              for orientation in piece.orientations:\n",
    "    57     17009      50509.0      3.0      3.0                  logging.debug(\"Examining orientation: %s\", orientation)\n",
    "    58                                                           \n",
    "    59     17009     882254.0     51.9     52.7                  new_o = Orientation([corner.p2 + rotation(p) for p in orientation.points])\n",
    "    60     17009      59013.0      3.5      3.5                  logging.debug(\"New orientation: %s\", new_o)\n",
    "    61     17009      33927.0      2.0      2.0                  m = Move(new_o, player_id, piece_id, corner)\n",
    "    62                                           \n",
    "    63     17009     567201.0     33.3     33.9                  if self.is_move_valid(m):\n",
    "    64      6450      21146.0      3.3      1.3                      logging.debug(\"Adding Move: %s\", m)\n",
    "    65      6450      36560.0      5.7      2.2                      player.add_move(m)"
   ]
  },
  {
   "cell_type": "markdown",
   "metadata": {
    "collapsed": true
   },
   "source": [
    "Timer unit: 1e-06 s\n",
    "\n",
    "Total time: 1.43679 s\n",
    "File: <ipython-input-54-6bf5e323533c>\n",
    "Function: add_corner_moves at line 45\n",
    "\n",
    "Line #      Hits         Time  Per Hit   % Time  Line Contents\n",
    "==============================================================\n",
    "    45                                               def add_corner_moves(self, corner, player_id):\n",
    "    46       354        281.0      0.8      0.0          player = self.players[player_id]\n",
    "    47       354       2668.0      7.5      0.2          rotation = corner.get_rotation()\n",
    "    48                                                   \n",
    "    49       354        796.0      2.2      0.1          if not Board.on_board(corner.p2):\n",
    "    50        41        127.0      3.1      0.0              logging.info(\"Corner %s is off board\", corner)\n",
    "    51        41         19.0      0.5      0.0              return\n",
    "    52                                                   \n",
    "    53       313       1007.0      3.2      0.1          logging.info(\"Adding corner %s moves\", corner)\n",
    "    54      4174       2446.0      0.6      0.2          for piece_id, piece in player.pieces.items():\n",
    "    55                                                       \n",
    "    56     20946      10877.0      0.5      0.8              for orientation in piece.orientations:\n",
    "    57     17085      43595.0      2.6      3.0                  logging.debug(\"Examining orientation: %s\", orientation)\n",
    "    58                                                           \n",
    "    59     17085     716453.0     41.9     49.9                  new_o = Orientation([corner.p2 + rotation(p) for p in orientation.points])\n",
    "    60     17085      46508.0      2.7      3.2                  logging.debug(\"New orientation: %s\", new_o)\n",
    "    61     17085      49656.0      2.9      3.5                  m = Move(new_o, player_id, piece_id, corner)\n",
    "    62                                           \n",
    "    63     17085     454759.0     26.6     31.7                  if self.is_move_valid(m):\n",
    "    64      6220      78904.0     12.7      5.5                      logging.debug(\"Adding Move: %s\", indent(m, 1))\n",
    "    65      6220      28691.0      4.6      2.0                      player.add_move(m)"
   ]
  },
  {
   "cell_type": "markdown",
   "metadata": {},
   "source": [
    "Timer unit: 1e-06 s\n",
    "\n",
    "Total time: 1.43679 s\n",
    "File: <ipython-input-54-6bf5e323533c>\n",
    "Function: add_corner_moves at line 45\n",
    "\n",
    "Line #      Hits         Time  Per Hit   % Time  Line Contents\n",
    "==============================================================\n",
    "    45                                               def add_corner_moves(self, corner, player_id):\n",
    "    46       354        281.0      0.8      0.0          player = self.players[player_id]\n",
    "    47       354       2668.0      7.5      0.2          rotation = corner.get_rotation()\n",
    "    48                                                   \n",
    "    49       354        796.0      2.2      0.1          if not Board.on_board(corner.p2):\n",
    "    50        41        127.0      3.1      0.0              logging.info(\"Corner %s is off board\", corner)\n",
    "    51        41         19.0      0.5      0.0              return\n",
    "    52                                                   \n",
    "    53       313       1007.0      3.2      0.1          logging.info(\"Adding corner %s moves\", corner)\n",
    "    54      4174       2446.0      0.6      0.2          for piece_id, piece in player.pieces.items():\n",
    "    55                                                       \n",
    "    56     20946      10877.0      0.5      0.8              for orientation in piece.orientations:\n",
    "    57     17085      43595.0      2.6      3.0                  logging.debug(\"Examining orientation: %s\", orientation)\n",
    "    58                                                           \n",
    "    59     17085     716453.0     41.9     49.9                  new_o = Orientation([corner.p2 + rotation(p) for p in orientation.points])\n",
    "    60     17085      46508.0      2.7      3.2                  logging.debug(\"New orientation: %s\", new_o)\n",
    "    61     17085      49656.0      2.9      3.5                  m = Move(new_o, player_id, piece_id, corner)\n",
    "    62                                           \n",
    "    63     17085     454759.0     26.6     31.7                  if self.is_move_valid(m):\n",
    "    64      6220      78904.0     12.7      5.5                      logging.debug(\"Adding Move: %s\", indent(m, 1))\n",
    "    65      6220      28691.0      4.6      2.0                      player.add_move(m)"
   ]
  },
  {
   "cell_type": "code",
   "execution_count": null,
   "metadata": {
    "collapsed": true
   },
   "outputs": [],
   "source": [
    "ge = GameEngine(display=False)\n",
    "\n",
    "%lprun -f ge.game.add_corner_moves ge.play_game()\n",
    "ge.play_game()"
   ]
  },
  {
   "cell_type": "code",
   "execution_count": null,
   "metadata": {
    "collapsed": true
   },
   "outputs": [],
   "source": [
    "ge = GameEngine(display=False)\n",
    "\n",
    "%lprun -f GameEngine.play_game ge.play_game()\n",
    "ge.play_game()"
   ]
  },
  {
   "cell_type": "markdown",
   "metadata": {},
   "source": [
    "```Third Run\n",
    "Changed to set intersection instead itterative check almost the same time requirement```"
   ]
  },
  {
   "cell_type": "markdown",
   "metadata": {},
   "source": [
    "Total time: 0.526981 s\n",
    "File: <ipython-input-53-8fbb860b920e>\n",
    "Function: validate_move at line 72\n",
    "\n",
    "Line #      Hits         Time  Per Hit   % Time  Line Contents\n",
    "==============================================================\n",
    "    72                                               def validate_move(self, move):\n",
    "    73     72684      72960.0      1.0     13.8          if not self.has_piece(move.piece_id):\n",
    "    74      1540      17668.0     11.5      3.4              raise RuntimeError(f\"Move {move} invalid. Already played {move.piece_id}\")\n",
    "    75                                           \n",
    "    76     71144     350042.0      4.9     66.4          new_points = {move.orientation.points}\n",
    "    77     71144      49508.0      0.7      9.4          overlap = self.invalid_points.intersection(new_points)\n",
    "    78     71144      36803.0      0.5      7.0          if len(overlap) > 0:\n",
    "    79                                                       raise RuntimeError(f\"Move {move} invalid. Includes invalid point {p}\")"
   ]
  },
  {
   "cell_type": "markdown",
   "metadata": {},
   "source": [
    "```Second Run\n",
    "Used set instead list to hold invalid points```"
   ]
  },
  {
   "cell_type": "markdown",
   "metadata": {},
   "source": [
    "Total time: 0.526422 s\n",
    "File: <ipython-input-44-b012ab35adb8>\n",
    "Function: validate_move at line 72\n",
    "\n",
    "Line #      Hits         Time  Per Hit   % Time  Line Contents\n",
    "==============================================================\n",
    "    72                                               def validate_move(self, move):\n",
    "    73     48991      56822.0      1.2     10.8          if not self.has_piece(move.piece_id):\n",
    "    74       833       9379.0     11.3      1.8              raise RuntimeError(f\"Move {move} invalid. Already played {move.piece_id}\")\n",
    "    75                                           \n",
    "    76    247885      96865.0      0.4     18.4          for p in move.orientation.points:\n",
    "    77    204076     302546.0      1.5     57.5              if p in self.invalid_points:\n",
    "    78      4349      60810.0     14.0     11.6                  raise RuntimeError(f\"Move {move} invalid. Includes invalid point {p}\")"
   ]
  },
  {
   "cell_type": "markdown",
   "metadata": {},
   "source": [
    "```First Run```"
   ]
  },
  {
   "cell_type": "markdown",
   "metadata": {},
   "source": [
    "Timer unit: 1e-06 s\n",
    "\n",
    "Total time: 8.30674 s\n",
    "File: <ipython-input-7-e9cda3e2ec9f>\n",
    "Function: validate_move at line 72\n",
    "\n",
    "Line #      Hits         Time  Per Hit   % Time  Line Contents\n",
    "==============================================================\n",
    "    72                                               def validate_move(self, move):\n",
    "    73     48443      74686.0      1.5      0.9          if not self.has_piece(move.piece_id):\n",
    "    74       715      13962.0     19.5      0.2              raise RuntimeError(f\"Move {move} invalid. Already played {move.piece_id}\")\n",
    "    75                                           \n",
    "    76    239866     157205.0      0.7      1.9          for p in move.orientation.points:\n",
    "    77    196660    7988919.0     40.6     96.2              if p in self.invalid_points:\n",
    "    78      4522      71967.0     15.9      0.9                  raise RuntimeError(f\"Move {move} invalid. Includes invalid point {p}\")"
   ]
  },
  {
   "cell_type": "markdown",
   "metadata": {},
   "source": [
    "## Status\n",
    "Refactored but a bunch of cornsers get droped for no reason near the end\n",
    "\n",
    "#### Questions:\n",
    "\n",
    "why does it allow invalid moves in the below loop?\n",
    "\n",
    "Theres an average branching factor of around 25\n",
    "so call it 75 is that doable?\n",
    "\n",
    "\n",
    "\n"
   ]
  },
  {
   "cell_type": "markdown",
   "metadata": {},
   "source": [
    "Number of chess game one guy says with 40 avg moves avg 30 moves per game\n",
    "~ 10 ** 120 \n",
    "\n",
    "James Hardy says (10 ** 50) ** 50 "
   ]
  },
  {
   "cell_type": "markdown",
   "metadata": {},
   "source": [
    "Number of blockus game???"
   ]
  },
  {
   "cell_type": "markdown",
   "metadata": {},
   "source": [
    "according to the game engine there are ~10^140 move options"
   ]
  }
 ],
 "metadata": {
  "kernelspec": {
   "display_name": "Python 3",
   "language": "python",
   "name": "python3"
  },
  "language_info": {
   "codemirror_mode": {
    "name": "ipython",
    "version": 3
   },
   "file_extension": ".py",
   "mimetype": "text/x-python",
   "name": "python",
   "nbconvert_exporter": "python",
   "pygments_lexer": "ipython3",
   "version": "3.6.1"
  }
 },
 "nbformat": 4,
 "nbformat_minor": 2
}
