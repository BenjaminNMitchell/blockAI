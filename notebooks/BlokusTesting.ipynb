{
 "cells": [
  {
   "cell_type": "code",
   "execution_count": null,
   "metadata": {
    "collapsed": true
   },
   "outputs": [],
   "source": [
    "from block_ai.lib.myblokus import point\n",
    "from block_ai.lib.myblokus.game_engine import GameEngine\n",
    "from block_ai.lib.myblokus.game import Game, GameEnd\n",
    "from block_ai.lib.myblokus.board import Board\n",
    "from block_ai.lib.myblokus.point import Point\n",
    "from block_ai.lib.myblokus import point\n",
    "from block_ai.lib.myblokus.piece import Piece\n",
    "from block_ai.lib.myblokus.corner import Corner\n",
    "from block_ai.lib.myblokus.orientation import Orientation\n",
    "from block_ai.lib.myblokus.move import Move\n",
    "from block_ai.lib.myblokus.agent import HumanInput, RandomAgent, Agent, PointAgent\n",
    "from block_ai.lib.myblokus.board_view import BoardView\n",
    "\n",
    "\n",
    "import itertools\n",
    "import random\n",
    "from copy import deepcopy\n",
    "import numpy as np\n",
    "\n",
    "from tqdm import tqdm_notebook"
   ]
  },
  {
   "cell_type": "code",
   "execution_count": null,
   "metadata": {
    "collapsed": true
   },
   "outputs": [],
   "source": [
    "import logging\n",
    "logger = logging.getLogger()\n",
    "logger.setLevel(logging.WARNING)\n",
    "\n",
    "%load_ext line_profiler\n",
    "\n",
    "import matplotlib.pyplot as plt\n",
    "import matplotlib.patches as patches"
   ]
  },
  {
   "cell_type": "code",
   "execution_count": null,
   "metadata": {
    "collapsed": true
   },
   "outputs": [],
   "source": [
    "ge = GameEngine(display=False, players=['greedy', 'greedy', 'greedy', 'greedy'])\n",
    "ge.play_game()"
   ]
  },
  {
   "cell_type": "markdown",
   "metadata": {},
   "source": [
    "Game upgrades:\n",
    "    moves contains duplicates\n",
    "        dict of dicts vs dict with tuple of (corner, piece) key. latter's probably faster\n",
    "\n",
    "    Is it really important to get all with a corner or all with a piece fast? maybe cut one out to speed up overall\n",
    "  \n",
    "\n",
    "Performance Tuning:\n",
    "\n",
    "1. Write Game Test compare valid "
   ]
  },
  {
   "cell_type": "code",
   "execution_count": null,
   "metadata": {
    "collapsed": true
   },
   "outputs": [],
   "source": [
    "def get_avg_moves_per_game():\n",
    "    \n",
    "    products = []\n",
    "\n",
    "    for i in range(100):\n",
    "\n",
    "        if i > 0 and i % 10 == 0:\n",
    "            print(i)\n",
    "\n",
    "        product = get_moves_per_game()\n",
    "        products.append(product)\n",
    "        \n",
    "def get_moves_per_game():\n",
    "    ge = GameEngine()\n",
    "    move_counts = []\n",
    "    while True:\n",
    "        try:\n",
    "            player_id = ge.game.player_pointer\n",
    "            moves = list(ge.game.get_players_moves(player_id))\n",
    "            move_counts.append((player_id, len(moves)))\n",
    "            ge.play_turn()\n",
    "\n",
    "        except GameEnd:\n",
    "            break\n",
    "\n",
    "    ids, options = zip(*move_counts)\n",
    "    options = [float(o) for o in options]\n",
    "    product = np.product(options)\n",
    "    return product"
   ]
  },
  {
   "cell_type": "code",
   "execution_count": null,
   "metadata": {
    "collapsed": true
   },
   "outputs": [],
   "source": [
    "def show_orientation(o):\n",
    "    \"\"\"displays an orientation\"\"\"\n",
    "    board = Board()\n",
    "    vis = BoardView()\n",
    "    offset = Point(10, 10)\n",
    "\n",
    "    for i, j in itertools.product(range(20), range(20)):\n",
    "        p = Point(i, j)\n",
    "        val = -1\n",
    "        if i < 10:\n",
    "            if j < 10:\n",
    "                val = 1\n",
    "            else:\n",
    "                val = 0\n",
    "        else:\n",
    "            if j < 10:\n",
    "                val = 2\n",
    "        board.assign(p, val)\n",
    "            \n",
    "    corners = o.get_corners()\n",
    "\n",
    "    for c in corners:\n",
    "        board.assign(c.p2 + offset, 4)\n",
    "    new_points = [p + offset for p in o.points]\n",
    "    for p in new_points:\n",
    "        board.assign(p, 3)\n",
    "\n",
    "    board.assign(Point(-1, -1), 6)\n",
    "    board.display()"
   ]
  },
  {
   "cell_type": "markdown",
   "metadata": {},
   "source": [
    "50% of get corner moves involves rotating points. Are matracies faster?\n",
    "\n",
    "Nagging Ideas:\n",
    "     -  I should set the seeds for random players to or replay a game based on move history\n",
    "        so that the runtimes are the same\n",
    "    \n",
    "     -  write tests so I don't break anything making optimizations\n",
    "\n",
    "     -  Speed up BoardViewer \n",
    "\n",
    "Optimization Ideas:\n",
    "     - lots of runtime spend rotating points. Are np.arrays / rot methods faster?\n",
    "       Answer: No\n",
    "     \n",
    "     - a bunch of time is spent converting orientations to sets in player.validate_move\n",
    "         - raise try / catch is pretty expensive though it's nice to have reason why move is invalid\n",
    "         - could use a boolean check + explain menthod (a little ugly)\n",
    "  \n",
    "     - logging can slow down stuff remove ones from the inner most loops"
   ]
  },
  {
   "cell_type": "markdown",
   "metadata": {},
   "source": [
    "## Status\n",
    "Refactored but a bunch of cornsers get droped for no reason near the end\n",
    "\n",
    "#### Questions:\n",
    "\n",
    "why does it allow invalid moves in the below loop?\n",
    "\n",
    "Theres an average branching factor of around 25\n",
    "so call it 75 is that doable?\n",
    "\n",
    "\n",
    "\n"
   ]
  },
  {
   "cell_type": "markdown",
   "metadata": {},
   "source": [
    "Number of chess game one guy says with 40 avg moves avg 30 moves per game\n",
    "~ 10 ** 120 \n",
    "\n",
    "James Hardy says (10 ** 50) ** 50 "
   ]
  },
  {
   "cell_type": "markdown",
   "metadata": {},
   "source": [
    "Number of blockus game???"
   ]
  },
  {
   "cell_type": "markdown",
   "metadata": {},
   "source": [
    "according to the game engine there are ~10^140 move options"
   ]
  }
 ],
 "metadata": {
  "kernelspec": {
   "display_name": "Python 3",
   "language": "python",
   "name": "python3"
  },
  "language_info": {
   "codemirror_mode": {
    "name": "ipython",
    "version": 3
   },
   "file_extension": ".py",
   "mimetype": "text/x-python",
   "name": "python",
   "nbconvert_exporter": "python",
   "pygments_lexer": "ipython3",
   "version": "3.6.2"
  }
 },
 "nbformat": 4,
 "nbformat_minor": 2
}
