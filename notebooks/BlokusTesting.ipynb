{
 "cells": [
  {
   "cell_type": "code",
   "execution_count": 1,
   "metadata": {},
   "outputs": [],
   "source": [
    "from block_ai.lib.myblokus import point\n",
    "from block_ai.lib.myblokus.point import Point\n",
    "from block_ai.lib.myblokus.piece import Piece\n",
    "from block_ai.lib.myblokus.corner import Corner\n",
    "from block_ai.lib.myblokus.orientation import Orientation\n",
    "\n",
    "import itertools\n",
    "\n",
    "import numpy as np\n",
    "import matplotlib.pyplot as plt\n",
    "import random"
   ]
  },
  {
   "cell_type": "code",
   "execution_count": 2,
   "metadata": {
    "collapsed": true
   },
   "outputs": [],
   "source": [
    "import logging\n",
    "logger = logging.getLogger()\n",
    "logger.setLevel(logging.WARNING)"
   ]
  },
  {
   "cell_type": "markdown",
   "metadata": {},
   "source": [
    "## Visualization"
   ]
  },
  {
   "cell_type": "code",
   "execution_count": 3,
   "metadata": {
    "collapsed": true
   },
   "outputs": [],
   "source": [
    "class PieceVisualization:\n",
    "    EMPTY = 0\n",
    "    FULL = 1\n",
    "    BORDER = 2\n",
    "    PLAYABLE = 3\n",
    "    START = 4\n",
    "    \n",
    "    def __init__(self):\n",
    "        pass\n",
    "    \n",
    "    def fill(self, point, value):\n",
    "        x, y = self.get_indices(point)\n",
    "        self.matrix[x, y] = value\n",
    "        \n",
    "    def get_indices(self, point):\n",
    "        return point.x + 5, point.y + 5\n",
    "    \n",
    "    def display(self, orientation):\n",
    "        self.init_matrix()\n",
    "        self.fill_in_points(orientation)\n",
    "        self.gen_graph()\n",
    "\n",
    "    def init_matrix(self):\n",
    "        self.x = [str(x) for x in range(-5, 6)]\n",
    "        self.y = [str(x) for x in range(-5, 6)]\n",
    "        matrix = []\n",
    "        for x in self.x:\n",
    "            sub = [self.EMPTY for y in self.y]\n",
    "            matrix.append(sub)\n",
    "        self.matrix = np.matrix(matrix)\n",
    "\n",
    "    def fill_in_points(self, orientation):\n",
    "        for p in orientation.points:\n",
    "            self.fill(p, self.FULL)\n",
    "\n",
    "        for p in orientation.get_corner_points():\n",
    "            self.fill(p, self.PLAYABLE)\n",
    "        \n",
    "        for p in orientation.get_border_points():\n",
    "            self.fill(p, self.BORDER)\n",
    "            \n",
    "        self.fill(Point(-1, -1), self.START)\n",
    "\n",
    "    def gen_graph(self):\n",
    "        fig = plt.figure()\n",
    "        ax = fig.add_subplot(1, 1, 1)\n",
    "        ax.set_aspect('equal')\n",
    "        plt.imshow(self.matrix, origin='dumb')\n",
    "        plt.show()"
   ]
  },
  {
   "cell_type": "code",
   "execution_count": 128,
   "metadata": {},
   "outputs": [],
   "source": [
    "\"\"\"\n",
    "This class defines a Player as a collection of.\n",
    "\n",
    "Pieces, valid moves, and invalid squares.\n",
    "\"\"\"\n",
    "\n",
    "from block_ai.lib.myblokus.piece import *\n",
    "from block_ai.lib.myblokus.point import Point\n",
    "\n",
    "import logging\n",
    "\n",
    "class Player:\n",
    "\n",
    "    def __init__(self, player_num):\n",
    "        self.player_num = player_num\n",
    "        self.pieces = gen_pieces()\n",
    "        self.valid_moves = {}\n",
    "        self.no_go_squares = []\n",
    "        \n",
    "    def update_state(self, move):\n",
    "        del self.pieces[move.piece_id]\n",
    "        del self.valid_moves[move.corner]\n",
    "        self.add_invalid_points(move)\n",
    "        '''\n",
    "        for c in self.valid_moves:\n",
    "            try:\n",
    "                del self.valid_moves[c][move.piece_id]\n",
    "            except:\n",
    "                pass\n",
    "        self.clear_moves(move)\n",
    "        '''\n",
    "\n",
    "    def clear_moves(self, move):\n",
    "\n",
    "\n",
    "        good_corners = list(self.valid_moves.keys())\n",
    "        \n",
    "        for corner in self.valid_moves.keys():\n",
    "            if corner.p2 in invalid_points:\n",
    "                good_corners.remove(corner)\n",
    "                \n",
    "        self.valid_moves = {c: self.valid_moves[c] for c in good_corners}\n",
    "        \n",
    "        for corner in self.valid_moves.keys():\n",
    "            for old_m in self.get_corner_moves(corner):\n",
    "                if self.overlap(old_m, move.get_footprint()):\n",
    "                    self.valid_moves[corner][old_m.piece_id].remove(old_m)\n",
    "\n",
    "    def add_invalid_points(self, move):\n",
    "        rot = move.corner.get_rotation()\n",
    "        invalid_points = [rot(p) for p in move.orientation.get_invalid_points()]\n",
    "        invalid_points = filter(self.on_board, invalid_points)\n",
    "        self.no_go_squares += invalid_points\n",
    "\n",
    "    # TODO unduplicate this \n",
    "    def on_board(self, p):\n",
    "        return p.x not in range(20) or p.y not in range(20)\n",
    "        \n",
    "    def is_move_valid(self, move):\n",
    "        if not self.has_piece(move.piece_id):\n",
    "            return False\n",
    "        \n",
    "        for p in move.orientation.points:\n",
    "            if p in self.no_go_squares:\n",
    "                logging.debug(\"Point: %s in player: %s no go squares\", p, self.player_num)\n",
    "                return False\n",
    "\n",
    "        return True\n",
    "        \n",
    "    def is_orientation_valid(self, orientation):\n",
    "        for p in orientation.points:\n",
    "            if p in self.no_go_squares:\n",
    "                \n",
    "                return False\n",
    "        return True\n",
    "    \n",
    "    def has_piece(self, piece_id):\n",
    "        return piece_id in self.pieces\n",
    "    \n",
    "    def add_move(self, corner, move):\n",
    "        try:\n",
    "            corner_moves = self.valid_moves[corner]\n",
    "            try:\n",
    "                corner_moves[move.piece_id].append(move)\n",
    "            except KeyError:\n",
    "                corner_moves[move.piece_id] = [move]\n",
    "        except KeyError:\n",
    "            self.valid_moves[corner] = {}\n",
    "            corner_moves = self.valid_moves[corner]\n",
    "            corner_moves[move.piece_id] = [move]\n",
    "\n",
    "    def delete_move(self, move):\n",
    "        self.valid_moves[move.corner][move.piece_id].remove(move)\n",
    "\n",
    "    def overlap(self, move, footprint):\n",
    "        # TODO make this faster by sorting and incrementing\n",
    "        for p in move.get_footprint():\n",
    "            if p in footprint:\n",
    "                return True\n",
    "        return False\n",
    "\n",
    "    def get_valid_moves(self):\n",
    "        for corner in self.valid_moves:\n",
    "            for m in self.get_corner_moves(corner):\n",
    "                yield m\n",
    "\n",
    "    def get_corner_moves(self, corner):\n",
    "        for piece_id in self.valid_moves[corner]:\n",
    "            for m in self.get_corner_piece_moves(corner, piece_id):\n",
    "                yield m\n",
    "\n",
    "    def get_corner_piece_moves(self, corner, piece_id):\n",
    "        try:\n",
    "            for m in self.valid_moves[corner][piece_id]:\n",
    "                yield m\n",
    "        except:\n",
    "            pass\n",
    "            \n",
    "    def get_piece_moves(self, piece_id):\n",
    "        for corner in self.valid_moves:\n",
    "            try:\n",
    "                for m in self.get_corner_piece_moves(corner, piece_id):\n",
    "                    yield m\n",
    "            except KeyError:\n",
    "                continue\n",
    "\n",
    "    def has_moves(self):\n",
    "        return len(self.valid_moves) > 0\n",
    "\n",
    "class Move:\n",
    "    \n",
    "    def __init__(self, orientation, player_id, piece_id, corner):\n",
    "        self.orientation = orientation\n",
    "        self.player_id = player_id\n",
    "        self.piece_id = piece_id\n",
    "        self.corner = corner\n",
    "\n",
    "    def get_footprint(self):\n",
    "        return [p for p in self.orientation.points]\n",
    "    \n",
    "    def __repr__(self):\n",
    "        o_repr = repr(self.orientation)\n",
    "        c_repr = repr(self.corner)\n",
    "        return f\"\"\"Move(orientation={o_repr},\n",
    "                        player_id={self.player_id},\n",
    "                        piece_id='{self.piece_id}',\n",
    "                        corner={c_repr})\"\"\"\n",
    "\n",
    "    def __str__(self):\n",
    "        return f\"Player ID: {self.player_id}\\nPiece ID:{self.piece_id}\\n{self.orientation}\"\n",
    "\n",
    "class Board:\n",
    "    SIDE_LENGTH = 20\n",
    "    EMPTY = -1\n",
    "\n",
    "    def __init__(self):\n",
    "        shape = (self.SIDE_LENGTH, self.SIDE_LENGTH)\n",
    "        self.board = np.full(shape, self.EMPTY)\n",
    "        self.player_pointer = 0\n",
    "        self.players = [Player(i) for i in range(4)]\n",
    "        self.set_starting_moves()\n",
    "        self.move_history = []\n",
    "    \n",
    "    def set_starting_moves(self):\n",
    "        logging.info(\"Starting Moves\")\n",
    "        corners = [Corner(Point(-1, -1), Point(0, 0)),\n",
    "                   Corner(Point(-1, 20), Point(0, 19)),\n",
    "                   Corner(Point(20, 20), Point(19, 19)),\n",
    "                   Corner(Point(20, -1), Point(19, 0))]\n",
    "\n",
    "        for i, c in enumerate(corners):\n",
    "            self.add_corner_moves(c, i)\n",
    "\n",
    "    def make_move(self, move):\n",
    "        logging.debug(\"Making move: %s\", move)\n",
    "        if self.is_move_valid(move):\n",
    "            self.update_state(move)\n",
    "            self.move_history.append(move)\n",
    "        else:\n",
    "            logging.warning(\"Invalid move: %s\", repr(move))\n",
    "\n",
    "    def update_state(self, move):\n",
    "        player = self.players[move.player_id]\n",
    "        player.update_state(move)\n",
    "        \n",
    "        for p in move.get_footprint():\n",
    "            self.assign(p, move.player_id)\n",
    "            \n",
    "        for corner in move.orientation.get_corners():\n",
    "            self.add_corner_moves(corner, move.player_id)\n",
    "            \n",
    "        # TODO make this better\n",
    "        for m in self.get_players_moves(move.player_id):\n",
    "            if not self.is_move_valid(m):\n",
    "                player.delete_move(m)\n",
    "\n",
    "    def add_corner_moves(self, corner, player_id):\n",
    "        player = self.players[player_id]\n",
    "        rotation = corner.get_rotation()\n",
    "\n",
    "        for piece_id, piece in player.pieces.items():\n",
    "            for orientation in piece.orientations:\n",
    "                \n",
    "                new_o = Orientation([corner.p2 + rotation(p) for p in orientation.points])\n",
    "                m = Move(new_o, player_id, piece_id, corner)\n",
    "\n",
    "                if self.is_move_valid(m):\n",
    "                    player.add_move(corner, m)\n",
    "\n",
    "    def is_move_valid(self, move):\n",
    "        if not self.are_squares_free(move.orientation):\n",
    "            logging.debug(\"Squares no free\")\n",
    "            return False\n",
    "        \n",
    "        player = self.players[move.player_id]\n",
    "        if not player.is_move_valid(move):\n",
    "            logging.debug(\"Player invalid\")\n",
    "            return False\n",
    "        \n",
    "        return True\n",
    "\n",
    "    def are_squares_free(self, orientation):\n",
    "        for p in orientation.points:\n",
    "            if not self.is_square_free(p):\n",
    "                return False\n",
    "        return True\n",
    "\n",
    "    def is_square_free(self, p):\n",
    "        if not self.on_board(p):\n",
    "            return False\n",
    "        if not self.point_empty(p):\n",
    "            fill_val = self.check(p)\n",
    "            return False\n",
    "        return True\n",
    "\n",
    "    def on_board(self, point):\n",
    "        valid_points = range(0, self.SIDE_LENGTH)\n",
    "        return point.x in valid_points and point.y in valid_points\n",
    "    \n",
    "    def point_empty(self, p):\n",
    "        return self.check(p) == self.EMPTY\n",
    "    \n",
    "    def check(self, point):\n",
    "        return self.board[point.x][point.y]\n",
    "    \n",
    "    def get_players_moves(self, player_id):\n",
    "        return self.players[player_id].get_valid_moves()\n",
    "    \n",
    "    def assign(self, point, value):\n",
    "\n",
    "        self.__assign(point, value, self.board)\n",
    "        \n",
    "    def __assign(self, point, value, board):\n",
    "        if self.on_board(point):\n",
    "            logging.debug(\"assigning %s: %s\", point, value)\n",
    "            board[point.y][point.x] = value\n",
    "        else:\n",
    "            logging.debug(\"%s off board not assigning\", point)\n",
    "\n",
    "    def __str__(self):\n",
    "        return str(self.board)\n",
    "\n",
    "    def copy(self):\n",
    "        return eval(repr(self))\n",
    "\n",
    "    def display(self):\n",
    "        self.__display(self.board)\n",
    "\n",
    "    def __display(self, board):\n",
    "        fig = plt.figure()\n",
    "        ax = fig.add_subplot(1, 1, 1)\n",
    "        ax.set_aspect('equal')\n",
    "        plt.imshow(board, origin='lower')\n",
    "        plt.show()\n",
    "\n",
    "    def show_player_view(self, player_id):\n",
    "        fill_val = 3\n",
    "        next_board = self.board.copy()\n",
    "\n",
    "        for p in self.players[player_id].no_go_squares:\n",
    "            self.__assign(p, fill_val, next_board)\n",
    "        self.__display(next_board)\n",
    "            \n",
    "def gen_pieces():\n",
    "    pieces = {\n",
    "        'p1': Piece([Point(0, 0)]),\n",
    "        'p2': Piece([Point(0, 0), Point(0, 1)]),\n",
    "        'p3': Piece([Point(0, 0), Point(0, 1), Point(0, 2)]),\n",
    "        'p4': Piece([Point(0, 0), Point(0, 1), Point(1, 1)]),\n",
    "        'p5': Piece([Point(0, 0), Point(1, 0), Point(0, 1), Point(1, 1)]),\n",
    "        'p6': Piece([Point(0, 0), Point(1, 0), Point(2, 0), Point(3, 0)]),\n",
    "        'p7': Piece([Point(0, 0), Point(1, 0), Point(1, 1), Point(2, 1)]),\n",
    "        'p8': Piece([Point(0, 0), Point(1, 0), Point(1, 1), Point(2, 0)]),\n",
    "        'p9': Piece([Point(0, 0), Point(1, 0), Point(1, 1), Point(2, 1)]),\n",
    "        'p10': Piece([Point(0, 0), Point(1, 0), Point(2, 0), Point(3, 0), Point(4, 0)]),\n",
    "        'p11': Piece([Point(0, 0), Point(1, 0), Point(2, 0), Point(3, 0), Point(3, 1)]),\n",
    "        'p15': Piece([Point(0, 0), Point(1, 0), Point(2, 0), Point(3, 0), Point(2, 1)]),\n",
    "        'p12': Piece([Point(0, 0), Point(1, 0), Point(2, 0), Point(2, 1), Point(3, 1)]),\n",
    "        'p17': Piece([Point(0, 0), Point(1, 0), Point(2, 0), Point(2, 1), Point(2, 2)]),\n",
    "        'p16': Piece([Point(0, 0), Point(1, 0), Point(2, 0), Point(1, 1), Point(1, 2)]),\n",
    "        'p13': Piece([Point(0, 0), Point(1, 0), Point(2, 0), Point(1, 1), Point(2, 1)]),\n",
    "        'p18': Piece([Point(0, 0), Point(1, 0), Point(1, 1), Point(2, 1), Point(2, 2)]),\n",
    "        'p20': Piece([Point(0, 0), Point(1, 0), Point(1, 1), Point(2, 1), Point(1, 2)]),\n",
    "        'p21': Piece([Point(0, 1), Point(1, 1), Point(1, 2), Point(1, 0), Point(2, 1)]),\n",
    "        'p14': Piece([Point(0, 0), Point(1, 0), Point(2, 0), Point(0, 1), Point(2, 1)]),\n",
    "        'p19': Piece([Point(0, 0), Point(0, 1), Point(1, 1), Point(2, 1), Point(2, 2)])\n",
    "    }\n",
    "    \n",
    "    return pieces\n"
   ]
  },
  {
   "cell_type": "code",
   "execution_count": 129,
   "metadata": {},
   "outputs": [],
   "source": [
    "board = Board()\n",
    "for i in range(10):\n",
    "    m = get_random_move(board, 0)\n",
    "    board.make_move(m)"
   ]
  },
  {
   "cell_type": "code",
   "execution_count": 130,
   "metadata": {},
   "outputs": [
    {
     "data": {
      "image/png": "[encoded data removed]",
      "text/plain": [
       "<Figure size 432x288 with 1 Axes>"
      ]
     },
     "metadata": {},
     "output_type": "display_data"
    }
   ],
   "source": [
    "board.display()"
   ]
  },
  {
   "cell_type": "code",
   "execution_count": 110,
   "metadata": {},
   "outputs": [],
   "source": [
    "moves = board.move_history"
   ]
  },
  {
   "cell_type": "markdown",
   "metadata": {},
   "source": [
    "What the fuck is this"
   ]
  },
  {
   "cell_type": "code",
   "execution_count": 111,
   "metadata": {},
   "outputs": [
    {
     "data": {
      "image/png": "[encoded data removed]",
      "text/plain": [
       "<Figure size 432x288 with 1 Axes>"
      ]
     },
     "metadata": {},
     "output_type": "display_data"
    },
    {
     "data": {
      "image/png": "[encoded data removed]",
      "text/plain": [
       "<Figure size 432x288 with 1 Axes>"
      ]
     },
     "metadata": {},
     "output_type": "display_data"
    },
    {
     "data": {
      "image/png": "[encoded data removed]",
      "text/plain": [
       "<Figure size 432x288 with 1 Axes>"
      ]
     },
     "metadata": {},
     "output_type": "display_data"
    },
    {
     "data": {
      "image/png": "[encoded data removed]",
      "text/plain": [
       "<Figure size 432x288 with 1 Axes>"
      ]
     },
     "metadata": {},
     "output_type": "display_data"
    },
    {
     "data": {
      "image/png": "[encoded data removed]",
      "text/plain": [
       "<Figure size 432x288 with 1 Axes>"
      ]
     },
     "metadata": {},
     "output_type": "display_data"
    },
    {
     "data": {
      "image/png": "[encoded data removed]",
      "text/plain": [
       "<Figure size 432x288 with 1 Axes>"
      ]
     },
     "metadata": {},
     "output_type": "display_data"
    },
    {
     "data": {
      "image/png": "[encoded data removed]",
      "text/plain": [
       "<Figure size 432x288 with 1 Axes>"
      ]
     },
     "metadata": {},
     "output_type": "display_data"
    },
    {
     "data": {
      "image/png": "[encoded data removed]",
      "text/plain": [
       "<Figure size 432x288 with 1 Axes>"
      ]
     },
     "metadata": {},
     "output_type": "display_data"
    },
    {
     "data": {
      "image/png": "[encoded data removed]",
      "text/plain": [
       "<Figure size 432x288 with 1 Axes>"
      ]
     },
     "metadata": {},
     "output_type": "display_data"
    },
    {
     "data": {
      "image/png": "[encoded data removed]",
      "text/plain": [
       "<Figure size 432x288 with 1 Axes>"
      ]
     },
     "metadata": {},
     "output_type": "display_data"
    }
   ],
   "source": [
    "board2 = Board()\n",
    "for m in moves:\n",
    "    board2.make_move(m)\n",
    "    board2.display()"
   ]
  },
  {
   "cell_type": "code",
   "execution_count": 113,
   "metadata": {
    "collapsed": true
   },
   "outputs": [],
   "source": [
    "def get_random_move(board, player_id):\n",
    "    if board.players[player_id].has_moves():        \n",
    "        moves = list(board.get_players_moves(player_id))\n",
    "        rand_int = random.randint(0, len(moves))\n",
    "        return moves[rand_int]\n",
    "    else:\n",
    "        raise StopIteration\n",
    "\n",
    "def replay_game(moves):\n",
    "    board = Board()\n",
    "    for move in moves:\n",
    "        board.make_move(move)\n",
    "    return board\n",
    "    \n",
    "def play_bad_move(moves):\n",
    "    logger.setLevel(logging.WARNING)\n",
    "    board = replay_game(moves[:-1])\n",
    "    board.show_player_view(0)\n",
    "    logger.setLevel(logging.DEBUG)\n",
    "    board.make_move(moves[-1])\n",
    "\n",
    "def play_random_moves():\n",
    "    player_id = 0\n",
    "    board = Board()\n",
    "    while board.players[player_id].has_moves():\n",
    "        m = get_random_move(board, player_id)\n",
    "        board.make_move(m)\n",
    "        board.display()\n",
    "    return board\n",
    "    "
   ]
  },
  {
   "cell_type": "code",
   "execution_count": null,
   "metadata": {
    "collapsed": true
   },
   "outputs": [],
   "source": []
  },
  {
   "cell_type": "code",
   "execution_count": 117,
   "metadata": {},
   "outputs": [
    {
     "data": {
      "image/png": "[encoded data removed]",
      "text/plain": [
       "<Figure size 432x288 with 1 Axes>"
      ]
     },
     "metadata": {},
     "output_type": "display_data"
    }
   ],
   "source": [
    "board.show_player_view(0)"
   ]
  },
  {
   "cell_type": "code",
   "execution_count": 114,
   "metadata": {},
   "outputs": [
    {
     "data": {
      "image/png": "[encoded data removed]",
      "text/plain": [
       "<Figure size 432x288 with 1 Axes>"
      ]
     },
     "metadata": {},
     "output_type": "display_data"
    },
    {
     "data": {
      "image/png": "[encoded data removed]",
      "text/plain": [
       "<Figure size 432x288 with 1 Axes>"
      ]
     },
     "metadata": {},
     "output_type": "display_data"
    },
    {
     "data": {
      "image/png": "[encoded data removed]",
      "text/plain": [
       "<Figure size 432x288 with 1 Axes>"
      ]
     },
     "metadata": {},
     "output_type": "display_data"
    },
    {
     "data": {
      "image/png": "[encoded data removed]",
      "text/plain": [
       "<Figure size 432x288 with 1 Axes>"
      ]
     },
     "metadata": {},
     "output_type": "display_data"
    },
    {
     "data": {
      "image/png": "[encoded data removed]",
      "text/plain": [
       "<Figure size 432x288 with 1 Axes>"
      ]
     },
     "metadata": {},
     "output_type": "display_data"
    },
    {
     "data": {
      "image/png": "[encoded data removed]",
      "text/plain": [
       "<Figure size 432x288 with 1 Axes>"
      ]
     },
     "metadata": {},
     "output_type": "display_data"
    },
    {
     "data": {
      "image/png": "[encoded data removed]",
      "text/plain": [
       "<Figure size 432x288 with 1 Axes>"
      ]
     },
     "metadata": {},
     "output_type": "display_data"
    },
    {
     "data": {
      "image/png": "[encoded data removed]",
      "text/plain": [
       "<Figure size 432x288 with 1 Axes>"
      ]
     },
     "metadata": {},
     "output_type": "display_data"
    },
    {
     "data": {
      "image/png": "[encoded data removed]",
      "text/plain": [
       "<Figure size 432x288 with 1 Axes>"
      ]
     },
     "metadata": {},
     "output_type": "display_data"
    },
    {
     "data": {
      "image/png": "[encoded data removed]",
      "text/plain": [
       "<Figure size 432x288 with 1 Axes>"
      ]
     },
     "metadata": {},
     "output_type": "display_data"
    },
    {
     "data": {
      "image/png": "[encoded data removed]",
      "text/plain": [
       "<Figure size 432x288 with 1 Axes>"
      ]
     },
     "metadata": {},
     "output_type": "display_data"
    },
    {
     "data": {
      "image/png": "[encoded data removed]",
      "text/plain": [
       "<Figure size 432x288 with 1 Axes>"
      ]
     },
     "metadata": {},
     "output_type": "display_data"
    },
    {
     "data": {
      "image/png": "[encoded data removed]",
      "text/plain": [
       "<Figure size 432x288 with 1 Axes>"
      ]
     },
     "metadata": {},
     "output_type": "display_data"
    },
    {
     "data": {
      "image/png": "[encoded data removed]",
      "text/plain": [
       "<Figure size 432x288 with 1 Axes>"
      ]
     },
     "metadata": {},
     "output_type": "display_data"
    },
    {
     "name": "stderr",
     "output_type": "stream",
     "text": [
      "WARNING:root:Invalid move: Move(orientation=Orientation((Point(4, 1), Point(5, 0), Point(5, 1), Point(5, 2), Point(6, 1))),\n",
      "                        player_id=0,\n",
      "                        piece_id='p21',\n",
      "                        corner=Corner(p1=Point(6, 1), p2=Point(5, 2)))\n"
     ]
    },
    {
     "data": {
      "image/png": "[encoded data removed]",
      "text/plain": [
       "<Figure size 432x288 with 1 Axes>"
      ]
     },
     "metadata": {},
     "output_type": "display_data"
    },
    {
     "data": {
      "image/png": "[encoded data removed]",
      "text/plain": [
       "<Figure size 432x288 with 1 Axes>"
      ]
     },
     "metadata": {},
     "output_type": "display_data"
    },
    {
     "data": {
      "image/png": "[encoded data removed]",
      "text/plain": [
       "<Figure size 432x288 with 1 Axes>"
      ]
     },
     "metadata": {},
     "output_type": "display_data"
    },
    {
     "data": {
      "image/png": "[encoded data removed]",
      "text/plain": [
       "<Figure size 432x288 with 1 Axes>"
      ]
     },
     "metadata": {},
     "output_type": "display_data"
    },
    {
     "data": {
      "image/png": "[encoded data removed]",
      "text/plain": [
       "<Figure size 432x288 with 1 Axes>"
      ]
     },
     "metadata": {},
     "output_type": "display_data"
    },
    {
     "data": {
      "image/png": "[encoded data removed]",
      "text/plain": [
       "<Figure size 432x288 with 1 Axes>"
      ]
     },
     "metadata": {},
     "output_type": "display_data"
    },
    {
     "name": "stderr",
     "output_type": "stream",
     "text": [
      "WARNING:root:Invalid move: Move(orientation=Orientation((Point(9, 2), Point(10, 2), Point(11, 1), Point(11, 2), Point(11, 3))),\n",
      "                        player_id=0,\n",
      "                        piece_id='p16',\n",
      "                        corner=Corner(p1=Point(10, 2), p2=Point(11, 1)))\n"
     ]
    },
    {
     "data": {
      "image/png": "[encoded data removed]",
      "text/plain": [
       "<Figure size 432x288 with 1 Axes>"
      ]
     },
     "metadata": {},
     "output_type": "display_data"
    },
    {
     "data": {
      "image/png": "[encoded data removed]",
      "text/plain": [
       "<Figure size 432x288 with 1 Axes>"
      ]
     },
     "metadata": {},
     "output_type": "display_data"
    },
    {
     "data": {
      "image/png": "[encoded data removed]",
      "text/plain": [
       "<Figure size 432x288 with 1 Axes>"
      ]
     },
     "metadata": {},
     "output_type": "display_data"
    },
    {
     "name": "stderr",
     "output_type": "stream",
     "text": [
      "WARNING:root:Invalid move: Move(orientation=Orientation((Point(13, 6), Point(13, 7), Point(13, 8), Point(14, 6), Point(15, 6))),\n",
      "                        player_id=0,\n",
      "                        piece_id='p17',\n",
      "                        corner=Corner(p1=Point(12, 5), p2=Point(13, 6)))\n"
     ]
    },
    {
     "data": {
      "image/png": "[encoded data removed]",
      "text/plain": [
       "<Figure size 432x288 with 1 Axes>"
      ]
     },
     "metadata": {},
     "output_type": "display_data"
    },
    {
     "name": "stderr",
     "output_type": "stream",
     "text": [
      "WARNING:root:Invalid move: Move(orientation=Orientation((Point(5, 2), Point(5, 3), Point(5, 4), Point(6, 2), Point(7, 2))),\n",
      "                        player_id=0,\n",
      "                        piece_id='p17',\n",
      "                        corner=Corner(p1=Point(8, 3), p2=Point(7, 2)))\n"
     ]
    },
    {
     "data": {
      "image/png": "[encoded data removed]",
      "text/plain": [
       "<Figure size 432x288 with 1 Axes>"
      ]
     },
     "metadata": {},
     "output_type": "display_data"
    },
    {
     "name": "stderr",
     "output_type": "stream",
     "text": [
      "WARNING:root:Invalid move: Move(orientation=Orientation((Point(7, 4), Point(8, 4), Point(9, 4), Point(9, 5), Point(9, 6))),\n",
      "                        player_id=0,\n",
      "                        piece_id='p17',\n",
      "                        corner=Corner(p1=Point(8, 3), p2=Point(7, 4)))\n"
     ]
    },
    {
     "data": {
      "image/png": "[encoded data removed]",
      "text/plain": [
       "<Figure size 432x288 with 1 Axes>"
      ]
     },
     "metadata": {},
     "output_type": "display_data"
    },
    {
     "name": "stderr",
     "output_type": "stream",
     "text": [
      "WARNING:root:Invalid move: Move(orientation=Orientation((Point(11, 2), Point(11, 3), Point(11, 4), Point(12, 4), Point(13, 4))),\n",
      "                        player_id=0,\n",
      "                        piece_id='p17',\n",
      "                        corner=Corner(p1=Point(10, 3), p2=Point(11, 2)))\n"
     ]
    },
    {
     "data": {
      "image/png": "[encoded data removed]",
      "text/plain": [
       "<Figure size 432x288 with 1 Axes>"
      ]
     },
     "metadata": {},
     "output_type": "display_data"
    },
    {
     "name": "stderr",
     "output_type": "stream",
     "text": [
      "WARNING:root:Invalid move: Move(orientation=Orientation((Point(9, 3), Point(10, 3), Point(11, 3), Point(11, 4), Point(11, 5))),\n",
      "                        player_id=0,\n",
      "                        piece_id='p17',\n",
      "                        corner=Corner(p1=Point(10, 4), p2=Point(11, 3)))\n"
     ]
    },
    {
     "data": {
      "image/png": "[encoded data removed]",
      "text/plain": [
       "<Figure size 432x288 with 1 Axes>"
      ]
     },
     "metadata": {},
     "output_type": "display_data"
    },
    {
     "name": "stderr",
     "output_type": "stream",
     "text": [
      "WARNING:root:Invalid move: Move(orientation=Orientation((Point(12, 5), Point(13, 5), Point(14, 3), Point(14, 4), Point(14, 5))),\n",
      "                        player_id=0,\n",
      "                        piece_id='p17',\n",
      "                        corner=Corner(p1=Point(11, 4), p2=Point(12, 5)))\n"
     ]
    },
    {
     "data": {
      "image/png": "[encoded data removed]",
      "text/plain": [
       "<Figure size 432x288 with 1 Axes>"
      ]
     },
     "metadata": {},
     "output_type": "display_data"
    },
    {
     "ename": "IndexError",
     "evalue": "list index out of range",
     "output_type": "error",
     "traceback": [
      "\u001b[0;31m---------------------------------------------------------------------------\u001b[0m",
      "\u001b[0;31mIndexError\u001b[0m                                Traceback (most recent call last)",
      "\u001b[0;32m<ipython-input-114-94db257954e6>\u001b[0m in \u001b[0;36m<module>\u001b[0;34m()\u001b[0m\n\u001b[0;32m----> 1\u001b[0;31m \u001b[0mboard\u001b[0m \u001b[0;34m=\u001b[0m \u001b[0mplay_random_moves\u001b[0m\u001b[0;34m(\u001b[0m\u001b[0;34m)\u001b[0m\u001b[0;34m\u001b[0m\u001b[0m\n\u001b[0m",
      "\u001b[0;32m<ipython-input-113-ddddb7c03d89>\u001b[0m in \u001b[0;36mplay_random_moves\u001b[0;34m()\u001b[0m\n\u001b[1;32m     24\u001b[0m     \u001b[0mboard\u001b[0m \u001b[0;34m=\u001b[0m \u001b[0mBoard\u001b[0m\u001b[0;34m(\u001b[0m\u001b[0;34m)\u001b[0m\u001b[0;34m\u001b[0m\u001b[0m\n\u001b[1;32m     25\u001b[0m     \u001b[0;32mwhile\u001b[0m \u001b[0mboard\u001b[0m\u001b[0;34m.\u001b[0m\u001b[0mplayers\u001b[0m\u001b[0;34m[\u001b[0m\u001b[0mplayer_id\u001b[0m\u001b[0;34m]\u001b[0m\u001b[0;34m.\u001b[0m\u001b[0mhas_moves\u001b[0m\u001b[0;34m(\u001b[0m\u001b[0;34m)\u001b[0m\u001b[0;34m:\u001b[0m\u001b[0;34m\u001b[0m\u001b[0m\n\u001b[0;32m---> 26\u001b[0;31m         \u001b[0mm\u001b[0m \u001b[0;34m=\u001b[0m \u001b[0mget_random_move\u001b[0m\u001b[0;34m(\u001b[0m\u001b[0mboard\u001b[0m\u001b[0;34m,\u001b[0m \u001b[0mplayer_id\u001b[0m\u001b[0;34m)\u001b[0m\u001b[0;34m\u001b[0m\u001b[0m\n\u001b[0m\u001b[1;32m     27\u001b[0m         \u001b[0mboard\u001b[0m\u001b[0;34m.\u001b[0m\u001b[0mmake_move\u001b[0m\u001b[0;34m(\u001b[0m\u001b[0mm\u001b[0m\u001b[0;34m)\u001b[0m\u001b[0;34m\u001b[0m\u001b[0m\n\u001b[1;32m     28\u001b[0m         \u001b[0mboard\u001b[0m\u001b[0;34m.\u001b[0m\u001b[0mdisplay\u001b[0m\u001b[0;34m(\u001b[0m\u001b[0;34m)\u001b[0m\u001b[0;34m\u001b[0m\u001b[0m\n",
      "\u001b[0;32m<ipython-input-113-ddddb7c03d89>\u001b[0m in \u001b[0;36mget_random_move\u001b[0;34m(board, player_id)\u001b[0m\n\u001b[1;32m      3\u001b[0m         \u001b[0mmoves\u001b[0m \u001b[0;34m=\u001b[0m \u001b[0mlist\u001b[0m\u001b[0;34m(\u001b[0m\u001b[0mboard\u001b[0m\u001b[0;34m.\u001b[0m\u001b[0mget_players_moves\u001b[0m\u001b[0;34m(\u001b[0m\u001b[0mplayer_id\u001b[0m\u001b[0;34m)\u001b[0m\u001b[0;34m)\u001b[0m\u001b[0;34m\u001b[0m\u001b[0m\n\u001b[1;32m      4\u001b[0m         \u001b[0mrand_int\u001b[0m \u001b[0;34m=\u001b[0m \u001b[0mrandom\u001b[0m\u001b[0;34m.\u001b[0m\u001b[0mrandint\u001b[0m\u001b[0;34m(\u001b[0m\u001b[0;36m0\u001b[0m\u001b[0;34m,\u001b[0m \u001b[0mlen\u001b[0m\u001b[0;34m(\u001b[0m\u001b[0mmoves\u001b[0m\u001b[0;34m)\u001b[0m\u001b[0;34m)\u001b[0m\u001b[0;34m\u001b[0m\u001b[0m\n\u001b[0;32m----> 5\u001b[0;31m         \u001b[0;32mreturn\u001b[0m \u001b[0mmoves\u001b[0m\u001b[0;34m[\u001b[0m\u001b[0mrand_int\u001b[0m\u001b[0;34m]\u001b[0m\u001b[0;34m\u001b[0m\u001b[0m\n\u001b[0m\u001b[1;32m      6\u001b[0m     \u001b[0;32melse\u001b[0m\u001b[0;34m:\u001b[0m\u001b[0;34m\u001b[0m\u001b[0m\n\u001b[1;32m      7\u001b[0m         \u001b[0;32mraise\u001b[0m \u001b[0mStopIteration\u001b[0m\u001b[0;34m\u001b[0m\u001b[0m\n",
      "\u001b[0;31mIndexError\u001b[0m: list index out of range"
     ]
    }
   ],
   "source": [
    "board = play_random_moves()"
   ]
  },
  {
   "cell_type": "code",
   "execution_count": 115,
   "metadata": {},
   "outputs": [
    {
     "data": {
      "text/plain": [
       "[Move(orientation=Orientation((Point(0, 0), Point(1, 0), Point(2, 0), Point(3, 0))),\n",
       "                         player_id=0,\n",
       "                         piece_id='p6',\n",
       "                         corner=Corner(p1=Point(-1, -1), p2=Point(0, 0))),\n",
       " Move(orientation=Orientation((Point(3, 4), Point(4, 1), Point(4, 2), Point(4, 3), Point(4, 4))),\n",
       "                         player_id=0,\n",
       "                         piece_id='p11',\n",
       "                         corner=Corner(p1=Point(3, 0), p2=Point(4, 1))),\n",
       " Move(orientation=Orientation((Point(5, 0), Point(5, 1), Point(5, 2), Point(5, 3), Point(5, 4))),\n",
       "                         player_id=0,\n",
       "                         piece_id='p10',\n",
       "                         corner=Corner(p1=Point(4, 1), p2=Point(5, 0))),\n",
       " Move(orientation=Orientation((Point(5, 5), Point(6, 4), Point(6, 5), Point(7, 5))),\n",
       "                         player_id=0,\n",
       "                         piece_id='p8',\n",
       "                         corner=Corner(p1=Point(4, 4), p2=Point(5, 5))),\n",
       " Move(orientation=Orientation((Point(6, 6), Point(7, 4), Point(7, 5), Point(7, 6), Point(8, 4))),\n",
       "                         player_id=0,\n",
       "                         piece_id='p19',\n",
       "                         corner=Corner(p1=Point(7, 5), p2=Point(8, 4))),\n",
       " Move(orientation=Orientation((Point(7, 8), Point(8, 7), Point(8, 8), Point(9, 7))),\n",
       "                         player_id=0,\n",
       "                         piece_id='p9',\n",
       "                         corner=Corner(p1=Point(7, 6), p2=Point(8, 7))),\n",
       " Move(orientation=Orientation((Point(9, 9), Point(10, 9), Point(11, 7), Point(11, 8), Point(11, 9))),\n",
       "                         player_id=0,\n",
       "                         piece_id='p17',\n",
       "                         corner=Corner(p1=Point(8, 8), p2=Point(9, 9))),\n",
       " Move(orientation=Orientation((Point(7, 6), Point(8, 5), Point(8, 6), Point(9, 6), Point(10, 6))),\n",
       "                         player_id=0,\n",
       "                         piece_id='p15',\n",
       "                         corner=Corner(p1=Point(9, 7), p2=Point(10, 6))),\n",
       " Move(orientation=Orientation((Point(10, 6), Point(11, 5), Point(11, 6), Point(11, 7), Point(12, 6))),\n",
       "                         player_id=0,\n",
       "                         piece_id='p21',\n",
       "                         corner=Corner(p1=Point(11, 7), p2=Point(12, 6))),\n",
       " Move(orientation=Orientation((Point(8, 6), Point(9, 4), Point(9, 5), Point(9, 6), Point(10, 5))),\n",
       "                         player_id=0,\n",
       "                         piece_id='p20',\n",
       "                         corner=Corner(p1=Point(8, 5), p2=Point(9, 4)))]"
      ]
     },
     "execution_count": 115,
     "metadata": {},
     "output_type": "execute_result"
    }
   ],
   "source": [
    "board.move_history"
   ]
  },
  {
   "cell_type": "code",
   "execution_count": 131,
   "metadata": {
    "collapsed": true
   },
   "outputs": [],
   "source": [
    "moves = [Move(orientation=Orientation((Point(0, 0), Point(1, 0), Point(2, 0), Point(3, 0))),\n",
    "                         player_id=0,\n",
    "                         piece_id='p6',\n",
    "                         corner=Corner(p1=Point(-1, -1), p2=Point(0, 0))),\n",
    " Move(orientation=Orientation((Point(3, 4), Point(4, 1), Point(4, 2), Point(4, 3), Point(4, 4))),\n",
    "                         player_id=0,\n",
    "                         piece_id='p11',\n",
    "                         corner=Corner(p1=Point(3, 0), p2=Point(4, 1))),\n",
    " Move(orientation=Orientation((Point(5, 0), Point(5, 1), Point(5, 2), Point(5, 3), Point(5, 4))),\n",
    "                         player_id=0,\n",
    "                         piece_id='p10',\n",
    "                         corner=Corner(p1=Point(4, 1), p2=Point(5, 0))),\n",
    " Move(orientation=Orientation((Point(5, 5), Point(6, 4), Point(6, 5), Point(7, 5))),\n",
    "                         player_id=0,\n",
    "                         piece_id='p8',\n",
    "                         corner=Corner(p1=Point(4, 4), p2=Point(5, 5))),\n",
    " Move(orientation=Orientation((Point(6, 6), Point(7, 4), Point(7, 5), Point(7, 6), Point(8, 4))),\n",
    "                         player_id=0,\n",
    "                         piece_id='p19',\n",
    "                         corner=Corner(p1=Point(7, 5), p2=Point(8, 4))),\n",
    " Move(orientation=Orientation((Point(7, 8), Point(8, 7), Point(8, 8), Point(9, 7))),\n",
    "                         player_id=0,\n",
    "                         piece_id='p9',\n",
    "                         corner=Corner(p1=Point(7, 6), p2=Point(8, 7))),\n",
    " Move(orientation=Orientation((Point(9, 9), Point(10, 9), Point(11, 7), Point(11, 8), Point(11, 9))),\n",
    "                         player_id=0,\n",
    "                         piece_id='p17',\n",
    "                         corner=Corner(p1=Point(8, 8), p2=Point(9, 9))),\n",
    " Move(orientation=Orientation((Point(7, 6), Point(8, 5), Point(8, 6), Point(9, 6), Point(10, 6))),\n",
    "                         player_id=0,\n",
    "                         piece_id='p15',\n",
    "                         corner=Corner(p1=Point(9, 7), p2=Point(10, 6))),\n",
    " Move(orientation=Orientation((Point(10, 6), Point(11, 5), Point(11, 6), Point(11, 7), Point(12, 6))),\n",
    "                         player_id=0,\n",
    "                         piece_id='p21',\n",
    "                         corner=Corner(p1=Point(11, 7), p2=Point(12, 6))),\n",
    " Move(orientation=Orientation((Point(8, 6), Point(9, 4), Point(9, 5), Point(9, 6), Point(10, 5))),\n",
    "                         player_id=0,\n",
    "                         piece_id='p20',\n",
    "                         corner=Corner(p1=Point(8, 5), p2=Point(9, 4)))]"
   ]
  },
  {
   "cell_type": "code",
   "execution_count": null,
   "metadata": {
    "collapsed": true
   },
   "outputs": [],
   "source": []
  },
  {
   "cell_type": "code",
   "execution_count": 40,
   "metadata": {
    "collapsed": true
   },
   "outputs": [],
   "source": [
    "board2 = Board()"
   ]
  },
  {
   "cell_type": "code",
   "execution_count": 116,
   "metadata": {},
   "outputs": [
    {
     "ename": "NameError",
     "evalue": "name 'board_replay' is not defined",
     "output_type": "error",
     "traceback": [
      "\u001b[0;31m---------------------------------------------------------------------------\u001b[0m",
      "\u001b[0;31mNameError\u001b[0m                                 Traceback (most recent call last)",
      "\u001b[0;32m<ipython-input-116-4ca47974c442>\u001b[0m in \u001b[0;36m<module>\u001b[0;34m()\u001b[0m\n\u001b[0;32m----> 1\u001b[0;31m \u001b[0mboard_replay\u001b[0m\u001b[0;34m.\u001b[0m\u001b[0mshow_player_view\u001b[0m\u001b[0;34m(\u001b[0m\u001b[0;36m0\u001b[0m\u001b[0;34m)\u001b[0m\u001b[0;34m\u001b[0m\u001b[0m\n\u001b[0m",
      "\u001b[0;31mNameError\u001b[0m: name 'board_replay' is not defined"
     ]
    }
   ],
   "source": [
    "board_replay.show_player_view(0)"
   ]
  },
  {
   "cell_type": "markdown",
   "metadata": {},
   "source": [
    "## Status\n",
    "This code is close to working and is ugly as fuck\n",
    "\n",
    "#### Questions:\n",
    "\n",
    "why does it allow invalid moves in the below loop?\n",
    "\n",
    "Theres an average branching factor of around 25\n",
    "so call it 75 is that doable?\n",
    "\n",
    "\n",
    "\n"
   ]
  },
  {
   "cell_type": "markdown",
   "metadata": {},
   "source": [
    "Number of chess game one guy says with 40 avg moves avg 30 moves per game\n",
    "~ 10 ** 120 \n",
    "\n",
    "James Hardy says (10 ** 50) ** 50 "
   ]
  },
  {
   "cell_type": "markdown",
   "metadata": {},
   "source": [
    "Number of blockus game???"
   ]
  },
  {
   "cell_type": "code",
   "execution_count": 3,
   "metadata": {},
   "outputs": [
    {
     "data": {
      "text/plain": [
       "'151'"
      ]
     },
     "execution_count": 3,
     "metadata": {},
     "output_type": "execute_result"
    }
   ],
   "source": [
    "f\"{len(str(75 ** (20 * 4)))}\""
   ]
  },
  {
   "cell_type": "code",
   "execution_count": 14,
   "metadata": {},
   "outputs": [
    {
     "data": {
      "text/plain": [
       "14780882941434592331608321020638329760100000000000000000000000000000000000000000000000000000000000000000000000000000000"
      ]
     },
     "execution_count": 14,
     "metadata": {},
     "output_type": "execute_result"
    }
   ],
   "source": []
  },
  {
   "cell_type": "code",
   "execution_count": 17,
   "metadata": {
    "scrolled": true
   },
   "outputs": [
    {
     "data": {
      "text/plain": [
       "151"
      ]
     },
     "execution_count": 17,
     "metadata": {},
     "output_type": "execute_result"
    }
   ],
   "source": []
  }
 ],
 "metadata": {
  "kernelspec": {
   "display_name": "Python 3",
   "language": "python",
   "name": "python3"
  },
  "language_info": {
   "codemirror_mode": {
    "name": "ipython",
    "version": 3
   },
   "file_extension": ".py",
   "mimetype": "text/x-python",
   "name": "python",
   "nbconvert_exporter": "python",
   "pygments_lexer": "ipython3",
   "version": "3.6.2"
  }
 },
 "nbformat": 4,
 "nbformat_minor": 2
}
