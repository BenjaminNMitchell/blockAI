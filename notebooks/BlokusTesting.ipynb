{
 "cells": [
  {
   "cell_type": "code",
   "execution_count": 1,
   "metadata": {
    "collapsed": true
   },
   "outputs": [],
   "source": [
    "import itertools\n",
    "import numpy as np\n",
    "import matplotlib.pyplot as plt\n",
    "from block_ai.lib.myblokus.piece import Piece\n",
    "from block_ai.lib.myblokus.point import Point\n",
    "from block_ai.lib.myblokus.orientation import Orientation\n",
    "from sklearn.preprocessing import normalize\n",
    "from block_ai.lib.myblokus import point\n",
    "import logging\n",
    "logging.basicConfig(level=logging.DEBUG)"
   ]
  },
  {
   "cell_type": "code",
   "execution_count": 2,
   "metadata": {
    "collapsed": true
   },
   "outputs": [],
   "source": [
    "corner1 = [Point(-1, -1), Point(0, 0)]\n",
    "corner2 = [Point(2, -1), Point(1, 0)]"
   ]
  },
  {
   "cell_type": "markdown",
   "metadata": {},
   "source": [
    "## Visualization"
   ]
  },
  {
   "cell_type": "code",
   "execution_count": 3,
   "metadata": {
    "collapsed": true
   },
   "outputs": [],
   "source": [
    "class PieceVisualization:\n",
    "    EMPTY = 0\n",
    "    FULL = 1\n",
    "    BORDER = 2\n",
    "    PLAYABLE = 3\n",
    "    START = 4\n",
    "    \n",
    "    def __init__(self):\n",
    "        pass\n",
    "    \n",
    "    def fill(self, point, value):\n",
    "        x, y = self.get_indices(point)\n",
    "        self.matrix[x, y] = value\n",
    "        \n",
    "    def get_indices(self, point):\n",
    "        return point.x + 5, point.y + 5\n",
    "    \n",
    "    def display(self, orientation):\n",
    "        self.init_matrix()\n",
    "        self.fill_in_points(orientation)\n",
    "        self.gen_graph()\n",
    "\n",
    "    def init_matrix(self):\n",
    "        self.x = [str(x) for x in range(-5, 6)]\n",
    "        self.y = [str(x) for x in range(-5, 6)]\n",
    "        matrix = []\n",
    "        for x in self.x:\n",
    "            sub = [self.EMPTY for y in self.y]\n",
    "            matrix.append(sub)\n",
    "        self.matrix = np.matrix(matrix)\n",
    "\n",
    "    def fill_in_points(self, orientation):\n",
    "        for p in orientation.points:\n",
    "            self.fill(p, self.FULL)\n",
    "\n",
    "        for p in orientation.get_corner_points():\n",
    "            self.fill(p, self.PLAYABLE)\n",
    "        \n",
    "        for p in orientation.get_border_points():\n",
    "            self.fill(p, self.BORDER)\n",
    "            \n",
    "        self.fill(Point(-1, -1), self.START)\n",
    "\n",
    "    def gen_graph(self):\n",
    "        fig = plt.figure()\n",
    "        ax = fig.add_subplot(1, 1, 1)\n",
    "        ax.set_aspect('equal')\n",
    "        plt.imshow(self.matrix)\n",
    "        plt.show()"
   ]
  },
  {
   "cell_type": "markdown",
   "metadata": {},
   "source": [
    "## Sandbox"
   ]
  },
  {
   "cell_type": "code",
   "execution_count": 4,
   "metadata": {},
   "outputs": [],
   "source": [
    "p1 = Piece([Point(0, 0)])\n",
    "p2 = Piece([Point(0, 0), Point(0, 1)])\n",
    "p3 = Piece([Point(0, 0), Point(0, 1), Point(0, 2)])\n",
    "p4 = Piece([Point(0, 0), Point(0, 1), Point(1, 1)])\n",
    "p5 = Piece([Point(0, 0), Point(1, 0), Point(0, 1), Point(1, 1)])\n",
    "p6 = Piece([Point(0, 0), Point(1, 0), Point(2, 0), Point(3, 0)])\n",
    "p7 = Piece([Point(0, 0), Point(1, 0), Point(1, 1), Point(2, 1)])\n",
    "p8 = Piece([Point(0, 0), Point(1, 0), Point(1, 1), Point(2, 0)])"
   ]
  },
  {
   "cell_type": "code",
   "execution_count": 5,
   "metadata": {},
   "outputs": [
    {
     "data": {
      "image/png": "[encoded data removed]",
      "text/plain": [
       "<matplotlib.figure.Figure at 0x111bd6940>"
      ]
     },
     "metadata": {},
     "output_type": "display_data"
    },
    {
     "data": {
      "image/png": "[encoded data removed]",
      "text/plain": [
       "<matplotlib.figure.Figure at 0x114de5198>"
      ]
     },
     "metadata": {},
     "output_type": "display_data"
    },
    {
     "data": {
      "image/png": "[encoded data removed]",
      "text/plain": [
       "<matplotlib.figure.Figure at 0x119db8198>"
      ]
     },
     "metadata": {},
     "output_type": "display_data"
    },
    {
     "data": {
      "image/png": "[encoded data removed]",
      "text/plain": [
       "<matplotlib.figure.Figure at 0x11d3b02e8>"
      ]
     },
     "metadata": {},
     "output_type": "display_data"
    },
    {
     "data": {
      "image/png": "[encoded data removed]",
      "text/plain": [
       "<matplotlib.figure.Figure at 0x11d5590f0>"
      ]
     },
     "metadata": {},
     "output_type": "display_data"
    },
    {
     "data": {
      "image/png": "[encoded data removed]",
      "text/plain": [
       "<matplotlib.figure.Figure at 0x11d675278>"
      ]
     },
     "metadata": {},
     "output_type": "display_data"
    }
   ],
   "source": [
    "p = p7\n",
    "vis = PieceVisualization()\n",
    "for o in p.orientations:\n",
    "    vis.display(o)"
   ]
  },
  {
   "cell_type": "code",
   "execution_count": 7,
   "metadata": {},
   "outputs": [
    {
     "data": {
      "text/plain": [
       "Piece(Orientation((Point(-1, 1), Point(0, 0), Point(0, 1))),\n",
       "Orientation((Point(0, 0), Point(0, 1), Point(1, 0))),\n",
       "Orientation((Point(0, 0), Point(0, 1), Point(1, 1))),\n",
       "Orientation((Point(0, 0), Point(1, -1), Point(1, 0))),\n",
       "Orientation((Point(0, 0), Point(1, 0), Point(1, 1))))"
      ]
     },
     "execution_count": 7,
     "metadata": {},
     "output_type": "execute_result"
    }
   ],
   "source": [
    "p4"
   ]
  },
  {
   "cell_type": "code",
   "execution_count": 8,
   "metadata": {},
   "outputs": [
    {
     "ename": "TypeError",
     "evalue": "__init__() takes 2 positional arguments but 6 were given",
     "output_type": "error",
     "traceback": [
      "\u001b[0;31m---------------------------------------------------------------------------\u001b[0m",
      "\u001b[0;31mTypeError\u001b[0m                                 Traceback (most recent call last)",
      "\u001b[0;32m<ipython-input-8-dbc19e019c6c>\u001b[0m in \u001b[0;36m<module>\u001b[0;34m()\u001b[0m\n\u001b[1;32m      3\u001b[0m \u001b[0mOrientation\u001b[0m\u001b[0;34m(\u001b[0m\u001b[0;34m(\u001b[0m\u001b[0mPoint\u001b[0m\u001b[0;34m(\u001b[0m\u001b[0;36m0\u001b[0m\u001b[0;34m,\u001b[0m \u001b[0;36m0\u001b[0m\u001b[0;34m)\u001b[0m\u001b[0;34m,\u001b[0m \u001b[0mPoint\u001b[0m\u001b[0;34m(\u001b[0m\u001b[0;36m0\u001b[0m\u001b[0;34m,\u001b[0m \u001b[0;36m1\u001b[0m\u001b[0;34m)\u001b[0m\u001b[0;34m,\u001b[0m \u001b[0mPoint\u001b[0m\u001b[0;34m(\u001b[0m\u001b[0;36m1\u001b[0m\u001b[0;34m,\u001b[0m \u001b[0;36m1\u001b[0m\u001b[0;34m)\u001b[0m\u001b[0;34m)\u001b[0m\u001b[0;34m)\u001b[0m\u001b[0;34m,\u001b[0m\u001b[0;34m\u001b[0m\u001b[0m\n\u001b[1;32m      4\u001b[0m \u001b[0mOrientation\u001b[0m\u001b[0;34m(\u001b[0m\u001b[0;34m(\u001b[0m\u001b[0mPoint\u001b[0m\u001b[0;34m(\u001b[0m\u001b[0;36m0\u001b[0m\u001b[0;34m,\u001b[0m \u001b[0;36m0\u001b[0m\u001b[0;34m)\u001b[0m\u001b[0;34m,\u001b[0m \u001b[0mPoint\u001b[0m\u001b[0;34m(\u001b[0m\u001b[0;36m1\u001b[0m\u001b[0;34m,\u001b[0m \u001b[0;34m-\u001b[0m\u001b[0;36m1\u001b[0m\u001b[0;34m)\u001b[0m\u001b[0;34m,\u001b[0m \u001b[0mPoint\u001b[0m\u001b[0;34m(\u001b[0m\u001b[0;36m1\u001b[0m\u001b[0;34m,\u001b[0m \u001b[0;36m0\u001b[0m\u001b[0;34m)\u001b[0m\u001b[0;34m)\u001b[0m\u001b[0;34m)\u001b[0m\u001b[0;34m,\u001b[0m\u001b[0;34m\u001b[0m\u001b[0m\n\u001b[0;32m----> 5\u001b[0;31m Orientation((Point(0, 0), Point(1, 0), Point(1, 1))))\n\u001b[0m",
      "\u001b[0;31mTypeError\u001b[0m: __init__() takes 2 positional arguments but 6 were given"
     ]
    }
   ],
   "source": [
    "Piece(Orientation((Point(-1, 1), Point(0, 0), Point(0, 1))),\n",
    "Orientation((Point(0, 0), Point(0, 1), Point(1, 0))),\n",
    "Orientation((Point(0, 0), Point(0, 1), Point(1, 1))),\n",
    "Orientation((Point(0, 0), Point(1, -1), Point(1, 0))),\n",
    "Orientation((Point(0, 0), Point(1, 0), Point(1, 1))))"
   ]
  },
  {
   "cell_type": "code",
   "execution_count": 9,
   "metadata": {},
   "outputs": [
    {
     "data": {
      "text/plain": [
       "'(Point(0, 0),)'"
      ]
     },
     "execution_count": 9,
     "metadata": {},
     "output_type": "execute_result"
    }
   ],
   "source": [
    "str(p1)"
   ]
  },
  {
   "cell_type": "code",
   "execution_count": null,
   "metadata": {
    "collapsed": true
   },
   "outputs": [],
   "source": []
  }
 ],
 "metadata": {
  "kernelspec": {
   "display_name": "Python 3",
   "language": "python",
   "name": "python3"
  },
  "language_info": {
   "codemirror_mode": {
    "name": "ipython",
    "version": 3
   },
   "file_extension": ".py",
   "mimetype": "text/x-python",
   "name": "python",
   "nbconvert_exporter": "python",
   "pygments_lexer": "ipython3",
   "version": "3.6.2"
  }
 },
 "nbformat": 4,
 "nbformat_minor": 2
}
