{
 "cells": [
  {
   "cell_type": "code",
   "execution_count": null,
   "metadata": {},
   "outputs": [],
   "source": [
    "from block_ai.lib.myblokus import point\n",
    "from block_ai.lib.myblokus.game_engine import GameEngine \n",
    "from block_ai.lib.myblokus.point import Point\n",
    "from block_ai.lib.myblokus.piece import Piece\n",
    "from block_ai.lib.myblokus.corner import Corner\n",
    "from block_ai.lib.myblokus.orientation import Orientation\n",
    "from block_ai.lib.myblokus.move import Move\n",
    "\n",
    "import itertools\n",
    "import numpy as np\n",
    "import random\n",
    "\n",
    "import matplotlib.pyplot as plt\n",
    "import matplotlib.pyplot as plt\n",
    "import matplotlib.patches as patches\n",
    "\n",
    "%load_ext line_profiler\n",
    "\n",
    "import logging\n",
    "logger = logging.getLogger()\n",
    "logger.setLevel(logging.WARNING)"
   ]
  },
  {
   "cell_type": "code",
   "execution_count": null,
   "metadata": {
    "collapsed": true
   },
   "outputs": [],
   "source": [
    "def get_avg_moves_per_game():\n",
    "    \n",
    "    products = []\n",
    "\n",
    "    for i in range(100):\n",
    "\n",
    "        if i > 0 and i % 10 == 0:\n",
    "            print(i)\n",
    "\n",
    "        product = get_moves_per_game()\n",
    "        products.append(product)\n",
    "        \n",
    "def get_moves_per_game():\n",
    "    ge = GameEngine()\n",
    "    move_counts = []\n",
    "    while True:\n",
    "        try:\n",
    "            player_id = ge.game.player_pointer\n",
    "            moves = list(ge.game.get_players_moves(player_id))\n",
    "            move_counts.append((player_id, len(moves)))\n",
    "            ge.play_turn()\n",
    "\n",
    "        except GameEnd:\n",
    "            break\n",
    "\n",
    "    ids, options = zip(*move_counts)\n",
    "    options = [float(o) for o in options]\n",
    "    product = np.product(options)\n",
    "    return product"
   ]
  },
  {
   "cell_type": "code",
   "execution_count": null,
   "metadata": {},
   "outputs": [],
   "source": [
    "ge = GameEngine(True)"
   ]
  },
  {
   "cell_type": "code",
   "execution_count": null,
   "metadata": {},
   "outputs": [],
   "source": [
    "ge.play_game()"
   ]
  },
  {
   "cell_type": "code",
   "execution_count": null,
   "metadata": {},
   "outputs": [],
   "source": [
    "ge.game.display()"
   ]
  },
  {
   "cell_type": "markdown",
   "metadata": {},
   "source": [
    "50% of get corner moves involves rotating points. Are matracies faster?\n",
    "\n",
    "Nagging Ideas:\n",
    "     -  I should set the seeds for random players to or replay a game based on move history\n",
    "        so that the runtimes are the same\n",
    "    \n",
    "     -  write tests so I don't break anything making optimizations\n",
    "\n",
    "     -  Speed up BoardViewer \n",
    "\n",
    "Optimization Ideas:\n",
    "     - lots of runtime spend rotating points. Are np.arrays / rot methods faster?\n",
    "     \n",
    "     - a bunch of time is spent converting orientations to sets in player.validate_move\n",
    "         - raise try / catch is pretty expensive though it's nice to have reason why move is invalid\n",
    "         - could use a boolean check + explain menthod (a little ugly)\n",
    "  \n",
    "     - logging can slow down stuff remove ones from the inner most loops"
   ]
  },
  {
   "cell_type": "markdown",
   "metadata": {},
   "source": [
    "Fixed Logging\n",
    "\n",
    "File: <ipython-input-74-8f1a337fe857>\n",
    "Function: add_corner_moves at line 45\n",
    "\n",
    "Line #      Hits         Time  Per Hit   % Time  Line Contents\n",
    "==============================================================\n",
    "    45                                               def add_corner_moves(self, corner, player_id):\n",
    "    46       336        358.0      1.1      0.0          player = self.players[player_id]\n",
    "    47       336       3075.0      9.2      0.2          rotation = corner.get_rotation()\n",
    "    48                                                   \n",
    "    49       336        946.0      2.8      0.1          if not Board.on_board(corner.p2):\n",
    "    50        45        159.0      3.5      0.0              logging.info(\"Corner %s is off board\", corner)\n",
    "    51        45         18.0      0.4      0.0              return\n",
    "    52                                                   \n",
    "    53       291       1214.0      4.2      0.1          logging.info(\"Adding corner %s moves\", corner)\n",
    "    54      4006       2874.0      0.7      0.2          for piece_id, piece in player.pieces.items():\n",
    "    55                                                       \n",
    "    56     20724      13778.0      0.7      0.8              for orientation in piece.orientations:\n",
    "    57     17009      50509.0      3.0      3.0                  logging.debug(\"Examining orientation: %s\", orientation)\n",
    "    58                                                           \n",
    "    59     17009     882254.0     51.9     52.7                  new_o = Orientation([corner.p2 + rotation(p) for p in orientation.points])\n",
    "    60     17009      59013.0      3.5      3.5                  logging.debug(\"New orientation: %s\", new_o)\n",
    "    61     17009      33927.0      2.0      2.0                  m = Move(new_o, player_id, piece_id, corner)\n",
    "    62                                           \n",
    "    63     17009     567201.0     33.3     33.9                  if self.is_move_valid(m):\n",
    "    64      6450      21146.0      3.3      1.3                      logging.debug(\"Adding Move: %s\", m)\n",
    "    65      6450      36560.0      5.7      2.2                      player.add_move(m)"
   ]
  },
  {
   "cell_type": "markdown",
   "metadata": {
    "collapsed": true
   },
   "source": [
    "Timer unit: 1e-06 s\n",
    "\n",
    "Total time: 1.43679 s\n",
    "File: <ipython-input-54-6bf5e323533c>\n",
    "Function: add_corner_moves at line 45\n",
    "\n",
    "Line #      Hits         Time  Per Hit   % Time  Line Contents\n",
    "==============================================================\n",
    "    45                                               def add_corner_moves(self, corner, player_id):\n",
    "    46       354        281.0      0.8      0.0          player = self.players[player_id]\n",
    "    47       354       2668.0      7.5      0.2          rotation = corner.get_rotation()\n",
    "    48                                                   \n",
    "    49       354        796.0      2.2      0.1          if not Board.on_board(corner.p2):\n",
    "    50        41        127.0      3.1      0.0              logging.info(\"Corner %s is off board\", corner)\n",
    "    51        41         19.0      0.5      0.0              return\n",
    "    52                                                   \n",
    "    53       313       1007.0      3.2      0.1          logging.info(\"Adding corner %s moves\", corner)\n",
    "    54      4174       2446.0      0.6      0.2          for piece_id, piece in player.pieces.items():\n",
    "    55                                                       \n",
    "    56     20946      10877.0      0.5      0.8              for orientation in piece.orientations:\n",
    "    57     17085      43595.0      2.6      3.0                  logging.debug(\"Examining orientation: %s\", orientation)\n",
    "    58                                                           \n",
    "    59     17085     716453.0     41.9     49.9                  new_o = Orientation([corner.p2 + rotation(p) for p in orientation.points])\n",
    "    60     17085      46508.0      2.7      3.2                  logging.debug(\"New orientation: %s\", new_o)\n",
    "    61     17085      49656.0      2.9      3.5                  m = Move(new_o, player_id, piece_id, corner)\n",
    "    62                                           \n",
    "    63     17085     454759.0     26.6     31.7                  if self.is_move_valid(m):\n",
    "    64      6220      78904.0     12.7      5.5                      logging.debug(\"Adding Move: %s\", indent(m, 1))\n",
    "    65      6220      28691.0      4.6      2.0                      player.add_move(m)"
   ]
  },
  {
   "cell_type": "markdown",
   "metadata": {},
   "source": [
    "Timer unit: 1e-06 s\n",
    "\n",
    "Total time: 1.43679 s\n",
    "File: <ipython-input-54-6bf5e323533c>\n",
    "Function: add_corner_moves at line 45\n",
    "\n",
    "Line #      Hits         Time  Per Hit   % Time  Line Contents\n",
    "==============================================================\n",
    "    45                                               def add_corner_moves(self, corner, player_id):\n",
    "    46       354        281.0      0.8      0.0          player = self.players[player_id]\n",
    "    47       354       2668.0      7.5      0.2          rotation = corner.get_rotation()\n",
    "    48                                                   \n",
    "    49       354        796.0      2.2      0.1          if not Board.on_board(corner.p2):\n",
    "    50        41        127.0      3.1      0.0              logging.info(\"Corner %s is off board\", corner)\n",
    "    51        41         19.0      0.5      0.0              return\n",
    "    52                                                   \n",
    "    53       313       1007.0      3.2      0.1          logging.info(\"Adding corner %s moves\", corner)\n",
    "    54      4174       2446.0      0.6      0.2          for piece_id, piece in player.pieces.items():\n",
    "    55                                                       \n",
    "    56     20946      10877.0      0.5      0.8              for orientation in piece.orientations:\n",
    "    57     17085      43595.0      2.6      3.0                  logging.debug(\"Examining orientation: %s\", orientation)\n",
    "    58                                                           \n",
    "    59     17085     716453.0     41.9     49.9                  new_o = Orientation([corner.p2 + rotation(p) for p in orientation.points])\n",
    "    60     17085      46508.0      2.7      3.2                  logging.debug(\"New orientation: %s\", new_o)\n",
    "    61     17085      49656.0      2.9      3.5                  m = Move(new_o, player_id, piece_id, corner)\n",
    "    62                                           \n",
    "    63     17085     454759.0     26.6     31.7                  if self.is_move_valid(m):\n",
    "    64      6220      78904.0     12.7      5.5                      logging.debug(\"Adding Move: %s\", indent(m, 1))\n",
    "    65      6220      28691.0      4.6      2.0                      player.add_move(m)"
   ]
  },
  {
   "cell_type": "code",
   "execution_count": null,
   "metadata": {
    "collapsed": true
   },
   "outputs": [],
   "source": [
    "ge = GameEngine(display=False)\n",
    "\n",
    "%lprun -f ge.game.add_corner_moves ge.play_game()\n",
    "ge.play_game()"
   ]
  },
  {
   "cell_type": "code",
   "execution_count": null,
   "metadata": {
    "collapsed": true
   },
   "outputs": [],
   "source": [
    "ge = GameEngine(display=False)\n",
    "\n",
    "%lprun -f GameEngine.play_game ge.play_game()\n",
    "ge.play_game()"
   ]
  },
  {
   "cell_type": "markdown",
   "metadata": {},
   "source": [
    "```Third Run\n",
    "Changed to set intersection instead itterative check almost the same time requirement```"
   ]
  },
  {
   "cell_type": "markdown",
   "metadata": {},
   "source": [
    "Total time: 0.526981 s\n",
    "File: <ipython-input-53-8fbb860b920e>\n",
    "Function: validate_move at line 72\n",
    "\n",
    "Line #      Hits         Time  Per Hit   % Time  Line Contents\n",
    "==============================================================\n",
    "    72                                               def validate_move(self, move):\n",
    "    73     72684      72960.0      1.0     13.8          if not self.has_piece(move.piece_id):\n",
    "    74      1540      17668.0     11.5      3.4              raise RuntimeError(f\"Move {move} invalid. Already played {move.piece_id}\")\n",
    "    75                                           \n",
    "    76     71144     350042.0      4.9     66.4          new_points = {move.orientation.points}\n",
    "    77     71144      49508.0      0.7      9.4          overlap = self.invalid_points.intersection(new_points)\n",
    "    78     71144      36803.0      0.5      7.0          if len(overlap) > 0:\n",
    "    79                                                       raise RuntimeError(f\"Move {move} invalid. Includes invalid point {p}\")"
   ]
  },
  {
   "cell_type": "markdown",
   "metadata": {},
   "source": [
    "```Second Run\n",
    "Used set instead list to hold invalid points```"
   ]
  },
  {
   "cell_type": "markdown",
   "metadata": {},
   "source": [
    "Total time: 0.526422 s\n",
    "File: <ipython-input-44-b012ab35adb8>\n",
    "Function: validate_move at line 72\n",
    "\n",
    "Line #      Hits         Time  Per Hit   % Time  Line Contents\n",
    "==============================================================\n",
    "    72                                               def validate_move(self, move):\n",
    "    73     48991      56822.0      1.2     10.8          if not self.has_piece(move.piece_id):\n",
    "    74       833       9379.0     11.3      1.8              raise RuntimeError(f\"Move {move} invalid. Already played {move.piece_id}\")\n",
    "    75                                           \n",
    "    76    247885      96865.0      0.4     18.4          for p in move.orientation.points:\n",
    "    77    204076     302546.0      1.5     57.5              if p in self.invalid_points:\n",
    "    78      4349      60810.0     14.0     11.6                  raise RuntimeError(f\"Move {move} invalid. Includes invalid point {p}\")"
   ]
  },
  {
   "cell_type": "markdown",
   "metadata": {},
   "source": [
    "```First Run```"
   ]
  },
  {
   "cell_type": "markdown",
   "metadata": {},
   "source": [
    "Timer unit: 1e-06 s\n",
    "\n",
    "Total time: 8.30674 s\n",
    "File: <ipython-input-7-e9cda3e2ec9f>\n",
    "Function: validate_move at line 72\n",
    "\n",
    "Line #      Hits         Time  Per Hit   % Time  Line Contents\n",
    "==============================================================\n",
    "    72                                               def validate_move(self, move):\n",
    "    73     48443      74686.0      1.5      0.9          if not self.has_piece(move.piece_id):\n",
    "    74       715      13962.0     19.5      0.2              raise RuntimeError(f\"Move {move} invalid. Already played {move.piece_id}\")\n",
    "    75                                           \n",
    "    76    239866     157205.0      0.7      1.9          for p in move.orientation.points:\n",
    "    77    196660    7988919.0     40.6     96.2              if p in self.invalid_points:\n",
    "    78      4522      71967.0     15.9      0.9                  raise RuntimeError(f\"Move {move} invalid. Includes invalid point {p}\")"
   ]
  },
  {
   "cell_type": "markdown",
   "metadata": {},
   "source": [
    "## Status\n",
    "Refactored but a bunch of cornsers get droped for no reason near the end\n",
    "\n",
    "#### Questions:\n",
    "\n",
    "why does it allow invalid moves in the below loop?\n",
    "\n",
    "Theres an average branching factor of around 25\n",
    "so call it 75 is that doable?\n",
    "\n",
    "\n",
    "\n"
   ]
  },
  {
   "cell_type": "markdown",
   "metadata": {},
   "source": [
    "Number of chess game one guy says with 40 avg moves avg 30 moves per game\n",
    "~ 10 ** 120 \n",
    "\n",
    "James Hardy says (10 ** 50) ** 50 "
   ]
  },
  {
   "cell_type": "markdown",
   "metadata": {},
   "source": [
    "Number of blockus game???"
   ]
  },
  {
   "cell_type": "markdown",
   "metadata": {},
   "source": [
    "according to the game engine there are ~10^140 move options"
   ]
  },
  {
   "cell_type": "code",
   "execution_count": null,
   "metadata": {
    "collapsed": true
   },
   "outputs": [],
   "source": []
  }
 ],
 "metadata": {
  "kernelspec": {
   "display_name": "Python 3",
   "language": "python",
   "name": "python3"
  },
  "language_info": {
   "codemirror_mode": {
    "name": "ipython",
    "version": 3
   },
   "file_extension": ".py",
   "mimetype": "text/x-python",
   "name": "python",
   "nbconvert_exporter": "python",
   "pygments_lexer": "ipython3",
   "version": "3.6.1"
  }
 },
 "nbformat": 4,
 "nbformat_minor": 2
}
