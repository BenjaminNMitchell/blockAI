{
 "cells": [
  {
   "cell_type": "code",
   "execution_count": null,
   "metadata": {
    "collapsed": true
   },
   "outputs": [],
   "source": [
    "from block_ai.lib.myblokus.game_engine import GameEngine\n",
    "from block_ai.lib.myblokus.game import Game, GameEnd\n",
    "from block_ai.lib.myblokus.agent import PointAgent\n",
    "\n",
    "import itertools\n",
    "import numpy as np\n",
    "from tqdm import tqdm_notebook\n",
    "import logging\n",
    "logger = logging.getLogger()\n",
    "logger.setLevel(logging.WARNING)"
   ]
  },
  {
   "cell_type": "code",
   "execution_count": null,
   "metadata": {
    "scrolled": true
   },
   "outputs": [],
   "source": [
    "ge = GameEngine(players=['point', 'random', 'random', 'random'])\n",
    "ge.play_game()"
   ]
  },
  {
   "cell_type": "code",
   "execution_count": null,
   "metadata": {},
   "outputs": [],
   "source": [
    "ge.game.get_scores()"
   ]
  },
  {
   "cell_type": "code",
   "execution_count": null,
   "metadata": {
    "collapsed": true
   },
   "outputs": [],
   "source": [
    "ge2 = GameEngine(players=['greedy', 'random', 'random', 'random'])"
   ]
  },
  {
   "cell_type": "code",
   "execution_count": null,
   "metadata": {
    "collapsed": true
   },
   "outputs": [],
   "source": [
    "ge2.play_game()"
   ]
  },
  {
   "cell_type": "code",
   "execution_count": null,
   "metadata": {},
   "outputs": [],
   "source": [
    "ge2.game.get_scores()"
   ]
  },
  {
   "cell_type": "code",
   "execution_count": null,
   "metadata": {},
   "outputs": [],
   "source": [
    "ge.game.display()"
   ]
  },
  {
   "cell_type": "code",
   "execution_count": null,
   "metadata": {},
   "outputs": [],
   "source": [
    "g2 = Game()\n",
    "try:\n",
    "    \n",
    "    for m in ge.game.move_history:\n",
    "        g2.make_move(m)\n",
    "        g2.display()\n",
    "\n",
    "except GameEnd:\n",
    "    pass"
   ]
  },
  {
   "cell_type": "code",
   "execution_count": null,
   "metadata": {},
   "outputs": [],
   "source": []
  },
  {
   "cell_type": "markdown",
   "metadata": {},
   "source": [
    "Game upgrades:\n",
    "    moves contains duplicates\n",
    "        dict of dicts vs dict with tuple of (corner, piece) key. latter's probably faster\n",
    "\n",
    "    Is it really important to get all with a corner or all with a piece fast? maybe cut one out to speed up overall\n",
    "  \n",
    "\n",
    "Performance Tuning:\n",
    "\n",
    "1. Write Game Test compare valid "
   ]
  },
  {
   "cell_type": "code",
   "execution_count": null,
   "metadata": {
    "collapsed": true
   },
   "outputs": [],
   "source": [
    "def get_avg_moves_per_game():\n",
    "    \n",
    "    products = []\n",
    "\n",
    "    for i in range(100):\n",
    "\n",
    "        if i > 0 and i % 10 == 0:\n",
    "            print(i)\n",
    "\n",
    "        product = get_moves_per_game()\n",
    "        products.append(product)\n",
    "        \n",
    "def get_moves_per_game():\n",
    "    ge = GameEngine()\n",
    "    move_counts = []\n",
    "    while True:\n",
    "        try:\n",
    "            player_id = ge.game.player_pointer\n",
    "            moves = list(ge.game.get_players_moves(player_id))\n",
    "            move_counts.append((player_id, len(moves)))\n",
    "            ge.play_turn()\n",
    "\n",
    "        except GameEnd:\n",
    "            break\n",
    "\n",
    "    ids, options = zip(*move_counts)\n",
    "    options = [float(o) for o in options]\n",
    "    product = np.product(options)\n",
    "    return product"
   ]
  },
  {
   "cell_type": "code",
   "execution_count": null,
   "metadata": {
    "collapsed": true
   },
   "outputs": [],
   "source": [
    "def show_orientation(o):\n",
    "    \"\"\"displays an orientation\"\"\"\n",
    "    board = Board()\n",
    "    vis = BoardView()\n",
    "    offset = Point(10, 10)\n",
    "\n",
    "    for i, j in itertools.product(range(20), range(20)):\n",
    "        p = Point(i, j)\n",
    "        val = -1\n",
    "        if i < 10:\n",
    "            if j < 10:\n",
    "                val = 1\n",
    "            else:\n",
    "                val = 0\n",
    "        else:\n",
    "            if j < 10:\n",
    "                val = 2\n",
    "        board.assign(p, val)\n",
    "            \n",
    "    corners = o.get_corners()\n",
    "\n",
    "    for c in corners:\n",
    "        board.assign(c.p2 + offset, 4)\n",
    "    new_points = [p + offset for p in o.points]\n",
    "    for p in new_points:\n",
    "        board.assign(p, 3)\n",
    "\n",
    "    board.assign(Point(-1, -1), 6)\n",
    "    board.display()"
   ]
  }
 ],
 "metadata": {
  "kernelspec": {
   "display_name": "Python 3",
   "language": "python",
   "name": "python3"
  },
  "language_info": {
   "codemirror_mode": {
    "name": "ipython",
    "version": 3
   },
   "file_extension": ".py",
   "mimetype": "text/x-python",
   "name": "python",
   "nbconvert_exporter": "python",
   "pygments_lexer": "ipython3",
   "version": "3.6.2"
  }
 },
 "nbformat": 4,
 "nbformat_minor": 2
}
