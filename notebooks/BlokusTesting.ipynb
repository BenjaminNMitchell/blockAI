{
 "cells": [
  {
   "cell_type": "code",
   "execution_count": 51,
   "metadata": {
    "collapsed": true
   },
   "outputs": [],
   "source": [
    "import itertools\n",
    "import numpy as np\n",
    "import matplotlib.pyplot as plt"
   ]
  },
  {
   "cell_type": "code",
   "execution_count": 141,
   "metadata": {
    "collapsed": true
   },
   "outputs": [],
   "source": [
    "class Point:\n",
    "    \"\"\"Holds x and y cordinates\"\"\"\n",
    "\n",
    "    def __init__(self, x, y):\n",
    "        self.x = x\n",
    "        self.y = y\n",
    "    \n",
    "    def get_adjacent(self):\n",
    "        return [Point(self.x, self.y + 1),\n",
    "                Point(self.x, self.y - 1),\n",
    "                Point(self.x + 1, self.y),\n",
    "                Point(self.x - 1, self.y)]\n",
    "        \n",
    "    def get_corners(self):\n",
    "        gen = itertools.product([1, -1], [1, -1])\n",
    "        return [Point(self.x + a, self.y + b) for a, b in gen]\n",
    "            \n",
    "    def __str__(self):\n",
    "        return f\"({self.x}, {self.y})\"\n",
    "\n",
    "    def __repr__(self):\n",
    "        return str(self)\n",
    "\n",
    "    def __eq__(self, other):\n",
    "        return self.x == other.x and self.y == other.y\n",
    "\n",
    "    def __hash__(self):\n",
    "        return hash((self.x, self.y))\n",
    "\n",
    "    def __gt__(self, other):\n",
    "        if self == other:\n",
    "            return True\n",
    "        elif self.x + self.y > other.x + other.y:\n",
    "            return True\n",
    "        else:\n",
    "            if self.x == other.x:\n",
    "                return self.y > other.y\n",
    "            else:\n",
    "                return self.x > self.y\n",
    "            \n",
    "    def __lt__(self, other):\n",
    "        return self.__gt__(other)\n",
    "    \n",
    "def from_string(string):\n",
    "    return eval(\"Point\" + string)\n",
    " \n",
    "def ident(point):\n",
    "    return Point(point.x, point.y)\n",
    "\n",
    "def flip(point):\n",
    "    return Point(point.x, - point.y)\n",
    "\n",
    "def rot90(point):\n",
    "    return Point(point.y, -point.x)\n",
    "\n",
    "def rot180(point):\n",
    "    return rot90(rot90(point))\n",
    "\n",
    "def rot270(point):\n",
    "    return rot180(rot90(point))\n",
    "\n",
    "class Orientation():\n",
    "\n",
    "    def __init__(self, points):\n",
    "        self.points = tuple(sorted(points))\n",
    "\n",
    "    def __str__(self):\n",
    "        return \", \".join([str(p) for p in self.points])\n",
    "\n",
    "    def __eq__(self, other):\n",
    "        if len(self.points) != len(other.points):\n",
    "            return False\n",
    "        for a, b in zip(self.points, other.points):\n",
    "            if a != b:\n",
    "                False\n",
    "        return True\n",
    "    \n",
    "    def get_border_points(self):\n",
    "        return self.get_related_points(\"get_adjacent\")\n",
    "    \n",
    "    def get_corner_points(self):\n",
    "        border_points = self.get_border_points()\n",
    "        played_point = {Point(-1, -1)}\n",
    "        invalid_corners = border_points | played_point \n",
    "        return self.get_related_points(\"get_corners\") - invalid_corners\n",
    "    \n",
    "    def get_related_points(self, func_name):\n",
    "        \"\"\"Generate points related to this orientation.\"\"\"\n",
    "        related_points = set()\n",
    "        for point in self.points:\n",
    "            relatives = eval(f\"point.{func_name}()\")\n",
    "            valid_relatives = set(filter(lambda p: p not in self.points, relatives))\n",
    "            related_points = related_points | valid_relatives\n",
    "        return related_points\n",
    "    \n",
    "    def is_valid(self):\n",
    "        invalid_points = [\n",
    "            Point(0, -1),\n",
    "            Point(-1, 0),\n",
    "            Point(-1, -1)\n",
    "        ]\n",
    "\n",
    "        for p in self.points:\n",
    "            if p in invalid_points:\n",
    "                return False\n",
    "        return True\n",
    "\n",
    "    def __hash__(self):\n",
    "        return hash(self.points)\n",
    "    \n",
    "class Piece:\n",
    "\n",
    "    def __init__(self, points):\n",
    "        self.orientations = set()\n",
    "        for transform in self.gen_transforms():\n",
    "            orientation = Orientation(tuple([transform(point) for point in points]))\n",
    "            if orientation.is_valid():\n",
    "                self.orientations.add(orientation)\n",
    "\n",
    "    def gen_transforms(self):\n",
    "        flips = [ident, flip]\n",
    "        rots = [ident, rot90, rot180, rot270]\n",
    "        for f, r in itertools.product(flips, rots):\n",
    "            yield lambda x: f(r(x))\n",
    "\n",
    "    def get_orientation_prime(self):\n",
    "        for o in self.orientations:\n",
    "            # will just return the first one\n",
    "            return o\n",
    "        \n",
    "    def __eq__(self, other):\n",
    "        if len(self.orientations) != len(other.orientations):\n",
    "            return False\n",
    "        for o in self.orientations:\n",
    "            if o not in other.orientations:\n",
    "                return False\n",
    "        return True\n",
    "\n",
    "    def __ne__(self, other):\n",
    "        return not self == other\n",
    "\n",
    "    def __str__(self):\n",
    "        return \"\\n\".join([str(o) for o in self.orientations])\n",
    "    \n",
    "# Testing\n",
    "\n",
    "def test_piece_equals():\n",
    "    p1 = Piece([Point(0, 0), Point(0, 1)])\n",
    "    p2 = Piece([Point(0, 1), Point(0, 0)])\n",
    "    assert(p1 == p2)\n",
    "    \n",
    "    p1 = Piece([Point(0, 0), Point(0, 2)])\n",
    "    p2 = Piece([Point(0, 1), Point(0, 0)])\n",
    "    assert(p1 != p2)\n",
    "\n",
    "def test_get_border_points():\n",
    "    p1 = Piece([Point(0, 0), Point(0, 1)])\n",
    "    o1 = next(p1.orientations.__iter__())\n",
    "    \n",
    "    expected = {Point(a, b) for a, b in [(-1, 1), (0, -1), (-1, 0), (0, 2), (1, 0), (1, 1)]}\n",
    "    assert(expected == o1.get_border_points())\n",
    "\n",
    "\n",
    "def test_get_corner_points():\n",
    "    p1 = Piece([Point(0, 0), Point(0, 1)])\n",
    "    o1 = next(p1.orientations.__iter__())\n",
    "    \n",
    "    expected = {Point(a, b) for a, b in [(1, 2), (-1, 2), (1, -1)]}\n",
    "    assert{expected == o1.get_corner_points()}\n",
    "\n",
    "def test_all():\n",
    "    test_piece_equals()\n",
    "    test_get_border_points()\n",
    "    test_get_corner_points()\n",
    "    \n",
    "test_all()"
   ]
  },
  {
   "cell_type": "markdown",
   "metadata": {},
   "source": [
    "## Visualization"
   ]
  },
  {
   "cell_type": "code",
   "execution_count": 142,
   "metadata": {},
   "outputs": [],
   "source": [
    "class PieceVisualization:\n",
    "    EMPTY = 0\n",
    "    FULL = 1\n",
    "    BORDER = 2\n",
    "    PLAYABLE = 3\n",
    "    START = 4\n",
    "    \n",
    "    def __init__(self):\n",
    "        pass\n",
    "    \n",
    "    def fill(self, point, value):\n",
    "        x, y = self.get_indices(point)\n",
    "        self.matrix[x, y] = value\n",
    "        \n",
    "    def get_indices(self, point):\n",
    "        return point.x + 5, point.y + 5\n",
    "    \n",
    "    def display(self, orientation):\n",
    "        self.init_matrix()\n",
    "        self.fill_in_points(orientation)\n",
    "        self.gen_graph()\n",
    "\n",
    "    def init_matrix(self):\n",
    "        self.x = [str(x) for x in range(-5, 6)]\n",
    "        self.y = [str(x) for x in range(-5, 6)]\n",
    "        matrix = []\n",
    "        for x in self.x:\n",
    "            sub = [self.EMPTY for y in self.y]\n",
    "            matrix.append(sub)\n",
    "        self.matrix = np.matrix(matrix)\n",
    "\n",
    "    def fill_in_points(self, orientation):\n",
    "        for p in orientation.points:\n",
    "            self.fill(p, self.FULL)\n",
    "\n",
    "        for p in orientation.get_corner_points():\n",
    "            self.fill(p, self.PLAYABLE)\n",
    "        \n",
    "        for p in orientation.get_border_points():\n",
    "            self.fill(p, self.BORDER)\n",
    "            \n",
    "        self.fill(Point(-1, -1), self.START)\n",
    "\n",
    "    def gen_graph(self):\n",
    "        fig = plt.figure()\n",
    "        ax = fig.add_subplot(1, 1, 1)\n",
    "        ax.set_aspect('equal')\n",
    "        plt.imshow(self.matrix)\n",
    "        plt.show()\n",
    "        \n"
   ]
  },
  {
   "cell_type": "markdown",
   "metadata": {},
   "source": [
    "## Sandbox"
   ]
  },
  {
   "cell_type": "code",
   "execution_count": null,
   "metadata": {
    "collapsed": true
   },
   "outputs": [],
   "source": [
    "p1 = Piece([Point(0, 0)])\n",
    "p2 = Piece([Point(0, 0), Point(0, 1)])\n",
    "p3 = Piece([Point(0, 0), Point(0, 1), Point(0, 2)])\n",
    "p4 = Piece([Point(0, 0), Point(0, 1), Point(1, 1)])\n",
    "p5 = Piece([Point(0, 0), Point(1, 0), Point(0, 1), Point(1, 1)])\n",
    "p6 = Piece([Point(0, 0), Point(1, 0), Point(2, 0), Point(3, 0)])\n",
    "p7 = Piece([Point(0, 0), Point(1, 0), Point(1, 1), Point(2, 1)])\n",
    "p8 = Piece([Point(0, 0), Point(1, 0), Point(1, 1), Point(2, 0)])"
   ]
  },
  {
   "cell_type": "markdown",
   "metadata": {},
   "source": [
    "#### This doesnt account for all moves"
   ]
  },
  {
   "cell_type": "code",
   "execution_count": 144,
   "metadata": {},
   "outputs": [
    {
     "data": {
      "image/png": "[encoded data removed]",
      "text/plain": [
       "<matplotlib.figure.Figure at 0x10e6c26a0>"
      ]
     },
     "metadata": {},
     "output_type": "display_data"
    },
    {
     "data": {
      "image/png": "[encoded data removed]",
      "text/plain": [
       "<matplotlib.figure.Figure at 0x10e6c2550>"
      ]
     },
     "metadata": {},
     "output_type": "display_data"
    },
    {
     "data": {
      "image/png": "[encoded data removed]",
      "text/plain": [
       "<matplotlib.figure.Figure at 0x10e6c2b38>"
      ]
     },
     "metadata": {},
     "output_type": "display_data"
    },
    {
     "data": {
      "image/png": "[encoded data removed]",
      "text/plain": [
       "<matplotlib.figure.Figure at 0x10e9621d0>"
      ]
     },
     "metadata": {},
     "output_type": "display_data"
    }
   ],
   "source": [
    "p = Piece([Point(0, 0), Point(0, 1), Point(1, 1), Point(1, 2), Point(2, 2)])\n",
    "vis = PieceVisualization()\n",
    "for o in p.orientations:\n",
    "    vis.display(o)"
   ]
  },
  {
   "cell_type": "code",
   "execution_count": null,
   "metadata": {
    "collapsed": true
   },
   "outputs": [],
   "source": []
  }
 ],
 "metadata": {
  "kernelspec": {
   "display_name": "Python 3",
   "language": "python",
   "name": "python3"
  },
  "language_info": {
   "codemirror_mode": {
    "name": "ipython",
    "version": 3
   },
   "file_extension": ".py",
   "mimetype": "text/x-python",
   "name": "python",
   "nbconvert_exporter": "python",
   "pygments_lexer": "ipython3",
   "version": "3.6.2"
  }
 },
 "nbformat": 4,
 "nbformat_minor": 2
}
