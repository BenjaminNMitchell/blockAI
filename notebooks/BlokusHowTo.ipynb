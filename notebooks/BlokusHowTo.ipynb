{
 "cells": [
  {
   "cell_type": "markdown",
   "metadata": {},
   "source": [
    "# Blokus Implimentation"
   ]
  },
  {
   "cell_type": "code",
   "execution_count": 3,
   "metadata": {
    "collapsed": true
   },
   "outputs": [],
   "source": [
    "from block_ai.lib.myblokus.game_engine import GameEngine\n",
    "from block_ai.lib.myblokus.game import Game"
   ]
  },
  {
   "cell_type": "code",
   "execution_count": 4,
   "metadata": {},
   "outputs": [],
   "source": [
    "ge = GameEngine()"
   ]
  },
  {
   "cell_type": "markdown",
   "metadata": {},
   "source": [
    "## Plays a random game"
   ]
  },
  {
   "cell_type": "code",
   "execution_count": 5,
   "metadata": {
    "collapsed": true
   },
   "outputs": [],
   "source": [
    "ge.play_game()"
   ]
  },
  {
   "cell_type": "markdown",
   "metadata": {},
   "source": [
    "## show the game"
   ]
  },
  {
   "cell_type": "code",
   "execution_count": 7,
   "metadata": {},
   "outputs": [
    {
     "data": {
      "image/png": "[encoded data removed]",
      "text/plain": [
       "<Figure size 400x400 with 1 Axes>"
      ]
     },
     "metadata": {},
     "output_type": "display_data"
    }
   ],
   "source": [
    "ge.game.display()"
   ]
  },
  {
   "cell_type": "markdown",
   "metadata": {},
   "source": [
    "## get the scores for each player"
   ]
  },
  {
   "cell_type": "code",
   "execution_count": 8,
   "metadata": {},
   "outputs": [
    {
     "data": {
      "text/plain": [
       "{0: 32, 1: 15, 2: 33, 3: 28}"
      ]
     },
     "execution_count": 8,
     "metadata": {},
     "output_type": "execute_result"
    }
   ],
   "source": [
    "ge.game.get_scores()"
   ]
  },
  {
   "cell_type": "markdown",
   "metadata": {},
   "source": [
    "## Moves made in game"
   ]
  },
  {
   "cell_type": "code",
   "execution_count": 12,
   "metadata": {},
   "outputs": [
    {
     "data": {
      "text/plain": [
       "[Move(orientation=Orientation(((0, 1), (0, 0), (2, 1), (2, 0), (1, 1))),\n",
       "                         player_id=0,\n",
       "                         piece_id='p14',\n",
       "                         corner=Corner(p1=(-1, -1), p2=(0, 0))),\n",
       " Move(orientation=Orientation(((0, 19), (1, 19), (2, 19))),\n",
       "                         player_id=1,\n",
       "                         piece_id='p3',\n",
       "                         corner=Corner(p1=(-1, 20), p2=(0, 19))),\n",
       " Move(orientation=Orientation(((17, 18), (19, 18), (19, 19), (18, 18), (16, 18))),\n",
       "                         player_id=2,\n",
       "                         piece_id='p11',\n",
       "                         corner=Corner(p1=(20, 20), p2=(19, 19))),\n",
       " Move(orientation=Orientation(((18, 0), (18, 2), (17, 2), (19, 0), (18, 1))),\n",
       "                         player_id=3,\n",
       "                         piece_id='p19',\n",
       "                         corner=Corner(p1=(20, -1), p2=(19, 0))),\n",
       " Move(orientation=Orientation(((3, 2), (3, 3), (4, 5), (3, 4), (3, 5))),\n",
       "                         player_id=0,\n",
       "                         piece_id='p11',\n",
       "                         corner=Corner(p1=(2, 1), p2=(3, 2))),\n",
       " Move(orientation=Orientation(((4, 18), (3, 18), (3, 17), (4, 17))),\n",
       "                         player_id=1,\n",
       "                         piece_id='p5',\n",
       "                         corner=Corner(p1=(2, 19), p2=(3, 18))),\n",
       " Move(orientation=Orientation(((14, 17), (14, 19), (14, 18), (13, 17), (15, 17))),\n",
       "                         player_id=2,\n",
       "                         piece_id='p16',\n",
       "                         corner=Corner(p1=(16, 18), p2=(15, 17))),\n",
       " Move(orientation=Orientation(((16, 1), (14, 2), (15, 2), (15, 1))),\n",
       "                         player_id=3,\n",
       "                         piece_id='p9',\n",
       "                         corner=Corner(p1=(17, 2), p2=(16, 1))),\n",
       " Move(orientation=Orientation(((2, 7), (2, 6), (2, 8), (1, 8), (1, 9))),\n",
       "                         player_id=0,\n",
       "                         piece_id='p12',\n",
       "                         corner=Corner(p1=(3, 5), p2=(2, 6))),\n",
       " Move(orientation=Orientation(((6, 19), (6, 18), (5, 19))),\n",
       "                         player_id=1,\n",
       "                         piece_id='p4',\n",
       "                         corner=Corner(p1=(4, 18), p2=(5, 19))),\n",
       " Move(orientation=Orientation(((11, 16), (11, 17), (11, 14), (12, 16), (11, 15))),\n",
       "                         player_id=2,\n",
       "                         piece_id='p15',\n",
       "                         corner=Corner(p1=(13, 17), p2=(12, 16))),\n",
       " Move(orientation=Orientation(((13, 1), (14, 0), (13, 0), (12, 0))),\n",
       "                         player_id=3,\n",
       "                         piece_id='p8',\n",
       "                         corner=Corner(p1=(14, 2), p2=(13, 1))),\n",
       " Move(orientation=Orientation(((3, 12), (3, 10), (3, 11), (2, 10), (4, 12))),\n",
       "                         player_id=0,\n",
       "                         piece_id='p19',\n",
       "                         corner=Corner(p1=(1, 9), p2=(2, 10))),\n",
       " Move(orientation=Orientation(((8, 16), (7, 16), (6, 16), (5, 16))),\n",
       "                         player_id=1,\n",
       "                         piece_id='p6',\n",
       "                         corner=Corner(p1=(4, 17), p2=(5, 16))),\n",
       " Move(orientation=Orientation(((13, 15), (14, 15))),\n",
       "                         player_id=2,\n",
       "                         piece_id='p2',\n",
       "                         corner=Corner(p1=(12, 16), p2=(13, 15))),\n",
       " Move(orientation=Orientation(((11, 2), (11, 3), (11, 1), (10, 1), (10, 2))),\n",
       "                         player_id=3,\n",
       "                         piece_id='p13',\n",
       "                         corner=Corner(p1=(12, 0), p2=(11, 1))),\n",
       " Move(orientation=Orientation(((0, 11), (1, 11), (0, 12))),\n",
       "                         player_id=0,\n",
       "                         piece_id='p4',\n",
       "                         corner=Corner(p1=(2, 10), p2=(1, 11))),\n",
       " Move(orientation=Orientation(((10, 15), (10, 16), (9, 14), (9, 15))),\n",
       "                         player_id=1,\n",
       "                         piece_id='p9',\n",
       "                         corner=Corner(p1=(8, 16), p2=(9, 15))),\n",
       " Move(orientation=Orientation(((9, 18), (9, 19), (10, 18))),\n",
       "                         player_id=2,\n",
       "                         piece_id='p4',\n",
       "                         corner=Corner(p1=(11, 17), p2=(10, 18))),\n",
       " Move(orientation=Orientation(((8, 3), (10, 4), (9, 4), (9, 5), (8, 4))),\n",
       "                         player_id=3,\n",
       "                         piece_id='p20',\n",
       "                         corner=Corner(p1=(11, 3), p2=(10, 4))),\n",
       " Move(orientation=Orientation(((6, 4), (5, 4), (7, 6), (7, 4), (7, 5))),\n",
       "                         player_id=0,\n",
       "                         piece_id='p17',\n",
       "                         corner=Corner(p1=(4, 5), p2=(5, 4))),\n",
       " Move(orientation=Orientation(((4, 15), (4, 14), (5, 14), (6, 13), (6, 14))),\n",
       "                         player_id=1,\n",
       "                         piece_id='p19',\n",
       "                         corner=Corner(p1=(5, 16), p2=(4, 15))),\n",
       " Move(orientation=Orientation(((10, 11), (10, 13), (10, 12), (9, 10), (9, 11))),\n",
       "                         player_id=2,\n",
       "                         piece_id='p12',\n",
       "                         corner=Corner(p1=(11, 14), p2=(10, 13))),\n",
       " Move(orientation=Orientation(((10, 7), (10, 6), (7, 7), (8, 7), (9, 7))),\n",
       "                         player_id=3,\n",
       "                         piece_id='p11',\n",
       "                         corner=Corner(p1=(9, 5), p2=(10, 6))),\n",
       " Move(orientation=Orientation(((5, 1), (6, 1), (4, 1))),\n",
       "                         player_id=0,\n",
       "                         piece_id='p3',\n",
       "                         corner=Corner(p1=(3, 2), p2=(4, 1))),\n",
       " Move(orientation=Orientation(((8, 12), (7, 12), (8, 11), (8, 10), (7, 10))),\n",
       "                         player_id=1,\n",
       "                         piece_id='p14',\n",
       "                         corner=Corner(p1=(6, 13), p2=(7, 12))),\n",
       " Move(orientation=Orientation(((16, 16), (16, 15), (16, 14), (15, 14), (17, 15))),\n",
       "                         player_id=2,\n",
       "                         piece_id='p20',\n",
       "                         corner=Corner(p1=(14, 15), p2=(15, 14))),\n",
       " Move(orientation=Orientation(((13, 3), (13, 4), (13, 5), (12, 6), (12, 5))),\n",
       "                         player_id=3,\n",
       "                         piece_id='p12',\n",
       "                         corner=Corner(p1=(14, 2), p2=(13, 3))),\n",
       " Move(orientation=Orientation(((5, 9), (6, 9), (5, 10), (5, 11), (6, 10))),\n",
       "                         player_id=0,\n",
       "                         piece_id='p13',\n",
       "                         corner=Corner(p1=(4, 12), p2=(5, 11))),\n",
       " Move(orientation=Orientation(((11, 9), (9, 9), (10, 9), (10, 10))),\n",
       "                         player_id=1,\n",
       "                         piece_id='p8',\n",
       "                         corner=Corner(p1=(8, 10), p2=(9, 9))),\n",
       " Move(orientation=Orientation(((17, 10), (17, 13), (17, 11), (17, 12))),\n",
       "                         player_id=2,\n",
       "                         piece_id='p6',\n",
       "                         corner=Corner(p1=(16, 14), p2=(17, 13))),\n",
       " Move(orientation=Orientation(((7, 2))),\n",
       "                         player_id=3,\n",
       "                         piece_id='p1',\n",
       "                         corner=Corner(p1=(8, 3), p2=(7, 2))),\n",
       " Move(orientation=Orientation(((5, 6))),\n",
       "                         player_id=0,\n",
       "                         piece_id='p1',\n",
       "                         corner=Corner(p1=(4, 5), p2=(5, 6))),\n",
       " Move(orientation=Orientation(((2, 16), (1, 16), (2, 13), (2, 15), (2, 14))),\n",
       "                         player_id=1,\n",
       "                         piece_id='p11',\n",
       "                         corner=Corner(p1=(3, 17), p2=(2, 16))),\n",
       " Move(orientation=Orientation(((6, 7), (6, 8), (8, 9), (7, 8), (7, 9))),\n",
       "                         player_id=2,\n",
       "                         piece_id='p18',\n",
       "                         corner=Corner(p1=(9, 10), p2=(8, 9))),\n",
       " Move(orientation=Orientation(((16, 6), (14, 6), (15, 6), (15, 4), (15, 5))),\n",
       "                         player_id=3,\n",
       "                         piece_id='p16',\n",
       "                         corner=Corner(p1=(13, 5), p2=(14, 6))),\n",
       " Move(orientation=Orientation(((0, 7), (0, 6), (0, 5), (0, 4), (0, 3))),\n",
       "                         player_id=0,\n",
       "                         piece_id='p10',\n",
       "                         corner=Corner(p1=(1, 8), p2=(0, 7))),\n",
       " Move(orientation=Orientation(((11, 11), (12, 14), (12, 13), (11, 12), (11, 13))),\n",
       "                         player_id=1,\n",
       "                         piece_id='p12',\n",
       "                         corner=Corner(p1=(10, 10), p2=(11, 11))),\n",
       " Move(orientation=Orientation(((16, 9), (16, 8), (15, 8), (15, 7))),\n",
       "                         player_id=2,\n",
       "                         piece_id='p7',\n",
       "                         corner=Corner(p1=(17, 10), p2=(16, 9))),\n",
       " Move(orientation=Orientation(((13, 7), (13, 8), (15, 9), (14, 9), (14, 8))),\n",
       "                         player_id=3,\n",
       "                         piece_id='p18',\n",
       "                         corner=Corner(p1=(14, 6), p2=(13, 7))),\n",
       " Move(orientation=Orientation(((7, 0), (9, 1), (8, 1), (9, 2), (8, 0))),\n",
       "                         player_id=0,\n",
       "                         piece_id='p18',\n",
       "                         corner=Corner(p1=(6, 1), p2=(7, 0))),\n",
       " Move(orientation=Orientation(((14, 11), (13, 12), (12, 10), (13, 10), (13, 11))),\n",
       "                         player_id=1,\n",
       "                         piece_id='p20',\n",
       "                         corner=Corner(p1=(11, 11), p2=(12, 10))),\n",
       " Move(orientation=Orientation(((8, 17), (6, 17), (7, 18), (7, 17))),\n",
       "                         player_id=2,\n",
       "                         piece_id='p8',\n",
       "                         corner=Corner(p1=(9, 18), p2=(8, 17))),\n",
       " Move(orientation=Orientation(((17, 5), (18, 5))),\n",
       "                         player_id=3,\n",
       "                         piece_id='p2',\n",
       "                         corner=Corner(p1=(16, 6), p2=(17, 5))),\n",
       " Move(orientation=Orientation(((0, 14), (1, 14), (1, 13), (0, 15))),\n",
       "                         player_id=0,\n",
       "                         piece_id='p9',\n",
       "                         corner=Corner(p1=(0, 12), p2=(1, 13))),\n",
       " Move(orientation=Orientation(((15, 12), (15, 13), (14, 13), (16, 12))),\n",
       "                         player_id=1,\n",
       "                         piece_id='p7',\n",
       "                         corner=Corner(p1=(14, 11), p2=(15, 12))),\n",
       " Move(orientation=Orientation(((18, 16))),\n",
       "                         player_id=2,\n",
       "                         piece_id='p1',\n",
       "                         corner=Corner(p1=(17, 15), p2=(18, 16))),\n",
       " Move(orientation=Orientation(((18, 7), (18, 8), (17, 8), (17, 7))),\n",
       "                         player_id=3,\n",
       "                         piece_id='p5',\n",
       "                         corner=Corner(p1=(16, 6), p2=(17, 7))),\n",
       " Move(orientation=Orientation(((11, 0), (10, 0))),\n",
       "                         player_id=0,\n",
       "                         piece_id='p2',\n",
       "                         corner=Corner(p1=(9, 1), p2=(10, 0))),\n",
       " Move(orientation=Orientation(((16, 10), (15, 10))),\n",
       "                         player_id=1,\n",
       "                         piece_id='p2',\n",
       "                         corner=Corner(p1=(14, 11), p2=(15, 10))),\n",
       " Move(orientation=Orientation(((19, 15), (19, 14), (19, 13))),\n",
       "                         player_id=2,\n",
       "                         piece_id='p3',\n",
       "                         corner=Corner(p1=(18, 16), p2=(19, 15))),\n",
       " Move(orientation=Orientation(((5, 5), (6, 5), (6, 6))),\n",
       "                         player_id=3,\n",
       "                         piece_id='p4',\n",
       "                         corner=Corner(p1=(7, 7), p2=(6, 6))),\n",
       " Move(orientation=Orientation(((12, 2), (12, 4), (12, 1), (12, 3))),\n",
       "                         player_id=0,\n",
       "                         piece_id='p6',\n",
       "                         corner=Corner(p1=(11, 0), p2=(12, 1))),\n",
       " Move(orientation=Orientation(((9, 17))),\n",
       "                         player_id=1,\n",
       "                         piece_id='p1',\n",
       "                         corner=Corner(p1=(10, 16), p2=(9, 17))),\n",
       " Move(orientation=Orientation(((11, 7), (10, 8), (11, 8), (9, 8), (11, 6))),\n",
       "                         player_id=2,\n",
       "                         piece_id='p17',\n",
       "                         corner=Corner(p1=(8, 9), p2=(9, 8))),\n",
       " Move(orientation=Orientation(((4, 7), (4, 9), (4, 6), (4, 8))),\n",
       "                         player_id=3,\n",
       "                         piece_id='p6',\n",
       "                         corner=Corner(p1=(5, 5), p2=(4, 6))),\n",
       " Move(orientation=Orientation(((17, 9), (18, 9), (19, 10), (19, 11), (18, 10))),\n",
       "                         player_id=1,\n",
       "                         piece_id='p18',\n",
       "                         corner=Corner(p1=(16, 10), p2=(17, 9))),\n",
       " Move(orientation=Orientation(((4, 4), (5, 2), (4, 3), (5, 3))),\n",
       "                         player_id=3,\n",
       "                         piece_id='p7',\n",
       "                         corner=Corner(p1=(5, 5), p2=(4, 4))),\n",
       " Move(orientation=Orientation(((18, 13), (18, 12), (18, 15), (18, 14), (17, 14))),\n",
       "                         player_id=1,\n",
       "                         piece_id='p15',\n",
       "                         corner=Corner(p1=(19, 11), p2=(18, 12))),\n",
       " Move(orientation=Orientation(((19, 8), (17, 6), (19, 6), (19, 7), (18, 6))),\n",
       "                         player_id=1,\n",
       "                         piece_id='p17',\n",
       "                         corner=Corner(p1=(18, 9), p2=(19, 8))),\n",
       " Move(orientation=Orientation(((16, 5), (16, 4), (16, 3), (17, 3), (17, 4))),\n",
       "                         player_id=1,\n",
       "                         piece_id='p13',\n",
       "                         corner=Corner(p1=(17, 6), p2=(16, 5)))]"
      ]
     },
     "execution_count": 12,
     "metadata": {},
     "output_type": "execute_result"
    }
   ],
   "source": [
    "ge.game.move_history"
   ]
  },
  {
   "cell_type": "markdown",
   "metadata": {},
   "source": [
    "# Working With the Game Object"
   ]
  },
  {
   "cell_type": "code",
   "execution_count": 63,
   "metadata": {
    "collapsed": true
   },
   "outputs": [],
   "source": [
    "g = Game()"
   ]
  },
  {
   "cell_type": "code",
   "execution_count": 64,
   "metadata": {},
   "outputs": [
    {
     "data": {
      "image/png": "[encoded data removed]",
      "text/plain": [
       "<Figure size 400x400 with 1 Axes>"
      ]
     },
     "metadata": {},
     "output_type": "display_data"
    }
   ],
   "source": [
    "g.display()"
   ]
  },
  {
   "cell_type": "markdown",
   "metadata": {},
   "source": [
    "## Which players turn it is"
   ]
  },
  {
   "cell_type": "code",
   "execution_count": 65,
   "metadata": {},
   "outputs": [
    {
     "data": {
      "text/plain": [
       "0"
      ]
     },
     "execution_count": 65,
     "metadata": {},
     "output_type": "execute_result"
    }
   ],
   "source": [
    "g.player_pointer"
   ]
  },
  {
   "cell_type": "markdown",
   "metadata": {},
   "source": [
    "## Generate the Moves required for a player"
   ]
  },
  {
   "cell_type": "code",
   "execution_count": 66,
   "metadata": {},
   "outputs": [],
   "source": [
    "moves = list(g.get_players_moves(0))"
   ]
  },
  {
   "cell_type": "markdown",
   "metadata": {},
   "source": [
    "## Play a move"
   ]
  },
  {
   "cell_type": "code",
   "execution_count": 67,
   "metadata": {
    "collapsed": true
   },
   "outputs": [],
   "source": [
    "good_moves = list(filter(lambda m: m.piece_id == \"p18\", moves))"
   ]
  },
  {
   "cell_type": "code",
   "execution_count": 68,
   "metadata": {},
   "outputs": [
    {
     "data": {
      "image/png": "[encoded data removed]",
      "text/plain": [
       "<Figure size 400x400 with 1 Axes>"
      ]
     },
     "metadata": {},
     "output_type": "display_data"
    }
   ],
   "source": [
    "move = good_moves[0]\n",
    "g.make_move(move)\n",
    "g.display()"
   ]
  },
  {
   "cell_type": "code",
   "execution_count": 69,
   "metadata": {},
   "outputs": [
    {
     "data": {
      "text/plain": [
       "1"
      ]
     },
     "execution_count": 69,
     "metadata": {},
     "output_type": "execute_result"
    }
   ],
   "source": [
    "g.player_pointer"
   ]
  },
  {
   "cell_type": "markdown",
   "metadata": {},
   "source": [
    "## Unmake a move"
   ]
  },
  {
   "cell_type": "code",
   "execution_count": 70,
   "metadata": {},
   "outputs": [
    {
     "data": {
      "image/png": "[encoded data removed]",
      "text/plain": [
       "<Figure size 400x400 with 1 Axes>"
      ]
     },
     "metadata": {},
     "output_type": "display_data"
    },
    {
     "data": {
      "text/plain": [
       "0"
      ]
     },
     "execution_count": 70,
     "metadata": {},
     "output_type": "execute_result"
    }
   ],
   "source": [
    "g.pop_moves()\n",
    "g.display()\n",
    "g.player_pointer"
   ]
  },
  {
   "cell_type": "code",
   "execution_count": null,
   "metadata": {
    "collapsed": true
   },
   "outputs": [],
   "source": []
  }
 ],
 "metadata": {
  "kernelspec": {
   "display_name": "Python 3",
   "language": "python",
   "name": "python3"
  },
  "language_info": {
   "codemirror_mode": {
    "name": "ipython",
    "version": 3
   },
   "file_extension": ".py",
   "mimetype": "text/x-python",
   "name": "python",
   "nbconvert_exporter": "python",
   "pygments_lexer": "ipython3",
   "version": "3.6.2"
  }
 },
 "nbformat": 4,
 "nbformat_minor": 2
}
