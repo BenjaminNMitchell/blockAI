{
 "cells": [
  {
   "cell_type": "code",
   "execution_count": null,
   "metadata": {
    "collapsed": true
   },
   "outputs": [],
   "source": [
    "from block_ai.lib.myblokus.game_engine import GameEngine\n",
    "from block_ai.lib.myblokus.game import Game, GameEnd\n",
    "from block_ai.lib.myblokus.orientation import Orientation\n",
    "from block_ai.lib.myblokus.point import Point, rot180, rot270\n",
    "\n",
    "import json"
   ]
  },
  {
   "cell_type": "markdown",
   "metadata": {},
   "source": [
    "### Get a position to standardise perf tests"
   ]
  },
  {
   "cell_type": "code",
   "execution_count": null,
   "metadata": {
    "collapsed": true
   },
   "outputs": [],
   "source": [
    "g = GameEngine()\n",
    "g.play_game()"
   ]
  },
  {
   "cell_type": "code",
   "execution_count": null,
   "metadata": {},
   "outputs": [],
   "source": [
    "moves = g.game.move_history"
   ]
  },
  {
   "cell_type": "code",
   "execution_count": null,
   "metadata": {
    "collapsed": true
   },
   "outputs": [],
   "source": [
    "%load_ext line_profiler\n"
   ]
  },
  {
   "cell_type": "code",
   "execution_count": null,
   "metadata": {
    "collapsed": true
   },
   "outputs": [],
   "source": [
    "def replay_game(moves):\n",
    "    g = Game()\n",
    "    try:\n",
    "        for move in moves:\n",
    "            g.make_move(move)\n",
    "            \n",
    "    except GameEnd:\n",
    "        return g\n",
    "        "
   ]
  },
  {
   "cell_type": "code",
   "execution_count": null,
   "metadata": {},
   "outputs": [],
   "source": [
    "%lprun -f Orientation.__init__ replay_game(moves) "
   ]
  },
  {
   "cell_type": "code",
   "execution_count": null,
   "metadata": {
    "collapsed": true
   },
   "outputs": [],
   "source": [
    "%lprun -f Game.add_corner_moves replay_game(moves) "
   ]
  },
  {
   "cell_type": "markdown",
   "metadata": {},
   "source": [
    "#### 5511841bbfd0024bd54d1e39b466f25397f2623c"
   ]
  },
  {
   "cell_type": "markdown",
   "metadata": {},
   "source": [
    "Timer unit: 1e-06 s\n",
    "\n",
    "Total time: 2.32094 s\n",
    "File: /Users/ben/Documents/Programming/Projects/blokus/blokus_ai/block_ai/lib/myblokus/game.py\n",
    "Function: add_corner_moves at line 62\n",
    "\n",
    "Line #      Hits         Time  Per Hit   % Time  Line Contents\n",
    "==============================================================\n",
    "    62                                               def add_corner_moves(self, corner, player_id):\n",
    "    63       284        323.0      1.1      0.0          player = self.players[player_id]\n",
    "    64       284       2715.0      9.6      0.1          rotation = corner.get_rotation_game()\n",
    "    65                                                   \n",
    "    66       284       1010.0      3.6      0.0          if not Board.on_board(corner.p2):\n",
    "    67        37        133.0      3.6      0.0              logging.info(\"Corner %s is off board\", corner)\n",
    "    68        37         19.0      0.5      0.0              return\n",
    "    69                                                   \n",
    "    70       247       1058.0      4.3      0.0          logging.info(\"Adding corner %s moves\", corner)\n",
    "    71      3707       3115.0      0.8      0.1          for piece_id, piece in player.pieces.items():\n",
    "    72                                                       \n",
    "    73     21882      16764.0      0.8      0.7              for orientation in piece.orientations:\n",
    "    74     18422      54917.0      3.0      2.4                  logging.debug(\"Examining orientation: %s\", orientation)\n",
    "    75                                                           \n",
    "    76     18422     962855.0     52.3     41.5                  new_o = Orientation([corner.p2 + rotation(p) for p in orientation.points])\n",
    "    77     18422      64497.0      3.5      2.8                  logging.debug(\"New orientation: %s\", new_o)\n",
    "    78     18422       9870.0      0.5      0.4                  try:\n",
    "    79     18422     139203.0      7.6      6.0                      m = Move(new_o, player_id, piece_id, corner)\n",
    "    80                                           \n",
    "    81     18422    1010473.0     54.9     43.5                      if self.is_move_valid(m):\n",
    "    82      6029      19220.0      3.2      0.8                          logging.debug(\"Adding Move: %s\", m)\n",
    "    83      6029      34766.0      5.8      1.5                          player.add_move(m)\n",
    "    84                                                           except RuntimeError as err:\n",
    "    85                                                               err_msg = f\"Move: {m} invalid: original_orientation: {orientation}\"\n",
    "    86                                                               logging.exception(err_msg)\n",
    "\n",
    "point = Point(2, 1)"
   ]
  },
  {
   "cell_type": "code",
   "execution_count": null,
   "metadata": {},
   "outputs": [],
   "source": [
    "rot180(point)"
   ]
  },
  {
   "cell_type": "code",
   "execution_count": null,
   "metadata": {},
   "outputs": [],
   "source": [
    "rot270(point)"
   ]
  },
  {
   "cell_type": "code",
   "execution_count": null,
   "metadata": {
    "collapsed": true
   },
   "outputs": [],
   "source": []
  }
 ],
 "metadata": {
  "kernelspec": {
   "display_name": "Python 3",
   "language": "python",
   "name": "python3"
  },
  "language_info": {
   "codemirror_mode": {
    "name": "ipython",
    "version": 3
   },
   "file_extension": ".py",
   "mimetype": "text/x-python",
   "name": "python",
   "nbconvert_exporter": "python",
   "pygments_lexer": "ipython3",
   "version": "3.6.2"
  }
 },
 "nbformat": 4,
 "nbformat_minor": 2
}
